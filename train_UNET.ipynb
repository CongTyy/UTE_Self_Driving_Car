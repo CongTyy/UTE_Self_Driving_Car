{
  "cells": [
    {
      "cell_type": "markdown",
      "metadata": {},
      "source": [
        "Khởi tạo datasets"
      ]
    },
    {
      "cell_type": "code",
      "execution_count": 1,
      "metadata": {},
      "outputs": [
        {
          "name": "stderr",
          "output_type": "stream",
          "text": [
            "/data/hoangtv/data/AIChallenge/anaconda3/envs/cds/lib/python3.7/site-packages/tqdm/auto.py:22: TqdmWarning: IProgress not found. Please update jupyter and ipywidgets. See https://ipywidgets.readthedocs.io/en/stable/user_install.html\n",
            "  from .autonotebook import tqdm as notebook_tqdm\n"
          ]
        }
      ],
      "source": [
        "import os\n",
        "import numpy as np\n",
        "import cv2\n",
        "import torch\n",
        "from torch.utils.data import Dataset\n",
        "import random\n",
        "\n",
        "def augment_hsv(im, hgain= 0, sgain=0.5, vgain=0.5):\n",
        "    # HSV color-space augmentation\n",
        "    if hgain or sgain or vgain:\n",
        "        r = np.random.uniform(-1, 1, 3) * [hgain, sgain, vgain] + 1  # random gains\n",
        "        hue, sat, val = cv2.split(cv2.cvtColor(im, cv2.COLOR_BGR2HSV))\n",
        "        dtype = im.dtype  # uint8\n",
        "\n",
        "        x = np.arange(0, 256, dtype=r.dtype)\n",
        "        lut_hue = ((x * r[0]) % 180).astype(dtype)\n",
        "        lut_sat = np.clip(x * r[1], 0, 255).astype(dtype)\n",
        "        lut_val = np.clip(x * r[2], 0, 255).astype(dtype)\n",
        "\n",
        "        im_hsv = cv2.merge((cv2.LUT(hue, lut_hue), cv2.LUT(sat, lut_sat), cv2.LUT(val, lut_val)))\n",
        "        cv2.cvtColor(im_hsv, cv2.COLOR_HSV2BGR, dst=im)  # no return needed\n",
        "\n",
        "\n",
        "# Change cv2.resize to import data correctly\n",
        "\n",
        "class DriveDataset(Dataset):\n",
        "    def __init__(self, images_path, masks_path, width, height):\n",
        "\n",
        "        self.images_path = images_path\n",
        "        self.masks_path = masks_path\n",
        "        self.n_samples = len(images_path)\n",
        "        self.width, self.height = width, height\n",
        "\n",
        "    def __getitem__(self, index):\n",
        "        \"\"\" Reading image \"\"\"\n",
        "        image = cv2.imread(self.images_path[index])\n",
        "        image = cv2.resize(image, (self.width, self.height), interpolation = cv2.INTER_LINEAR)\n",
        "        augment_hsv(image)\n",
        "        image = cv2.cvtColor(image, cv2.COLOR_BGR2RGB)\n",
        "        image = image/255.0 ## (512, 512, 3)\n",
        "        \n",
        "        image = np.transpose(image, (2, 0, 1))  ## (3, 512, 512)\n",
        "        image = image.astype(np.float32)\n",
        "        image = torch.from_numpy(image)\n",
        "        \n",
        "        \n",
        "        \"\"\" Reading mask \"\"\"\n",
        "        mask = cv2.imread(self.masks_path[index], cv2.IMREAD_GRAYSCALE)\n",
        "        # mask = cv2.resize(mask, (self.width, self.height), interpolation=cv2.INTER_LINEAR)\n",
        "        # mask = mask/255.0   ## (512, 512)\n",
        "        mask = cv2.resize(mask, (160, 80), interpolation=cv2.INTER_LINEAR)\n",
        "        mask = np.expand_dims(mask, axis=0) ## (1, 512, 512)\n",
        "        \n",
        "        mask = np.where(mask != 0, 1.0, 0.0)\n",
        "        mask = mask.astype(np.float32)\n",
        "        mask = torch.from_numpy(mask)\n",
        "\n",
        "        return image, mask\n",
        "    def __len__(self):\n",
        "        return self.n_samples\n",
        "    \n",
        "\n",
        "\"\"\" Seeding the randomness. \"\"\"\n",
        "def seeding(seed):\n",
        "    random.seed(seed)\n",
        "    os.environ[\"PYTHONHASHSEED\"] = str(seed)\n",
        "    np.random.seed(seed)\n",
        "    torch.manual_seed(seed)\n",
        "    torch.cuda.manual_seed(seed)\n",
        "    torch.backends.cudnn.deterministic = True\n",
        "\n"
      ]
    },
    {
      "cell_type": "markdown",
      "metadata": {},
      "source": [
        "Khởi tạo hàm loss và hàm tính mIoU"
      ]
    },
    {
      "cell_type": "code",
      "execution_count": 8,
      "metadata": {},
      "outputs": [],
      "source": [
        "import os\n",
        "import numpy as np\n",
        "import cv2\n",
        "import torch\n",
        "import torch.nn as nn\n",
        "import torch.nn.functional as F\n",
        "\n",
        "\n",
        "\n",
        "class DiceBCELoss(nn.Module):\n",
        "    def __init__(self):\n",
        "        super(DiceBCELoss, self).__init__()\n",
        "\n",
        "    def forward(self, inputs, targets, smooth=1):\n",
        "\n",
        "        #comment out if your model contains a sigmoid or equivalent activation layer\n",
        "        inputs = torch.sigmoid(inputs)\n",
        "\n",
        "        #flatten label and prediction tensors\n",
        "        inputs = inputs.view(-1)\n",
        "        targets = targets.view(-1)\n",
        "\n",
        "        intersection = (inputs * targets).sum()\n",
        "        dice_loss = 1 - (2.*intersection + smooth)/(inputs.sum() + targets.sum() + smooth)\n",
        "        BCE = F.binary_cross_entropy(inputs, targets, reduction='mean')\n",
        "        Dice_BCE = BCE + dice_loss\n",
        "\n",
        "        return Dice_BCE\n",
        "    \n",
        "    \n",
        "\n",
        "SMOOTH = 1e-6\n",
        "\n",
        "def iou_pytorch(outputs: torch.Tensor, labels: torch.Tensor, threshold = 0.5):\n",
        "    # You can comment out this line if you are passing tensors of equal shape\n",
        "    # But if you are passing output from UNet or something it will most probably\n",
        "    # be with the BATCH x 1 x H x W shape\n",
        "\n",
        "    outputs = outputs.squeeze(1)  # BATCH x 1 x H x W => BATCH x H x W\n",
        "    outputs = torch.sigmoid(outputs)\n",
        "    outputs = (outputs> threshold)\n",
        "    outputs = outputs.to(dtype=torch.int8)\n",
        "\n",
        "    labels = labels.to(dtype=torch.int8)\n",
        "    # print(outputs)\n",
        "    intersection = (outputs & labels).float().sum((1, 2, 3))  # Will be zero if Truth=0 or Prediction=0\n",
        "    union = (outputs | labels).float().sum((1, 2, 3))         # Will be zzero if both are 0\n",
        "    \n",
        "    iou = (intersection + SMOOTH) / (union + SMOOTH)  # We smooth our devision to avoid 0/0\n",
        "    \n",
        "    thresholded = torch.clamp(20 * (iou - 0.5), 0, 10).ceil() / 10  # This is equal to comparing with thresolds\n",
        "    # print(sum(iou)/outputs.shape[0])\n",
        "    return sum(iou)/outputs.shape[0]  # Or thresholded.mean() if you are interested in average across the batch\n",
        "\n"
      ]
    },
    {
      "cell_type": "markdown",
      "metadata": {},
      "source": [
        "Khởi tạo mô hình Unet"
      ]
    },
    {
      "cell_type": "code",
      "execution_count": 3,
      "metadata": {},
      "outputs": [],
      "source": [
        "import torch\n",
        "import torch.nn as nn\n",
        "\n",
        "class conv_block(nn.Module):\n",
        "    def __init__(self, in_c, out_c):\n",
        "        super().__init__()\n",
        "\n",
        "        self.conv1 = nn.Conv2d(in_c, out_c, kernel_size=3, padding=1)\n",
        "        self.bn1 = nn.BatchNorm2d(out_c)\n",
        "\n",
        "        self.conv2 = nn.Conv2d(out_c, out_c, kernel_size=3, padding=1)\n",
        "        #self.conv2 = nn.Conv2d(out_c, out_c, kernel_size=3, padding=1, group=out_c)\n",
        "        self.bn2 = nn.BatchNorm2d(out_c)\n",
        "\n",
        "        self.relu = nn.ReLU()\n",
        "\n",
        "    def forward(self, inputs):\n",
        "        x = self.conv1(inputs)\n",
        "        x = self.bn1(x)\n",
        "        x = self.relu(x)\n",
        "\n",
        "        x = self.conv2(x)\n",
        "        x = self.bn2(x)\n",
        "        x = self.relu(x)\n",
        "\n",
        "        return x\n",
        "\n",
        "class encoder_block(nn.Module):\n",
        "    def __init__(self, in_c, out_c):\n",
        "        super().__init__()\n",
        "\n",
        "        self.conv = conv_block(in_c, out_c)\n",
        "        self.pool = nn.MaxPool2d((2, 2))\n",
        "\n",
        "    def forward(self, inputs):\n",
        "        x = self.conv(inputs)\n",
        "        p = self.pool(x)\n",
        "\n",
        "        return x, p\n",
        "\n",
        "class decoder_block(nn.Module):\n",
        "    def __init__(self, in_c, out_c):\n",
        "        super().__init__()\n",
        "\n",
        "        self.up = nn.ConvTranspose2d(in_c, out_c, kernel_size=2, stride=2, padding=0)\n",
        "        self.conv = conv_block(out_c+out_c, out_c)\n",
        "\n",
        "    def forward(self, inputs, skip):\n",
        "        x = self.up(inputs)\n",
        "        x = torch.cat([x, skip], axis=1)\n",
        "        x = self.conv(x)\n",
        "        return x\n",
        "\n",
        "class build_unet(nn.Module):\n",
        "    def __init__(self):\n",
        "        super().__init__()\n",
        "\n",
        "        \"\"\" Encoder \"\"\"\n",
        "        self.e1 = encoder_block(3, 64)\n",
        "        self.e2 = encoder_block(64, 128)\n",
        "        self.e3 = encoder_block(128, 256)\n",
        "        self.e4 = encoder_block(256, 512)\n",
        "\n",
        "        \"\"\" Bottleneck \"\"\"\n",
        "        self.b = conv_block(512, 1024)\n",
        "\n",
        "        \"\"\" Decoder \"\"\"\n",
        "        self.d1 = decoder_block(1024, 512)\n",
        "        self.d2 = decoder_block(512, 256)\n",
        "        self.d3 = decoder_block(256, 128)\n",
        "        self.d4 = decoder_block(128, 64)\n",
        "\n",
        "        \"\"\" Classifier \"\"\"\n",
        "        self.outputs = nn.Conv2d(64, 1, kernel_size=1, padding=0)\n",
        "\n",
        "    def forward(self, inputs):\n",
        "        \"\"\" Encoder \"\"\"\n",
        "        s1, p1 = self.e1(inputs)\n",
        "        s2, p2 = self.e2(p1)\n",
        "        s3, p3 = self.e3(p2)\n",
        "        s4, p4 = self.e4(p3)\n",
        "\n",
        "        \"\"\" Bottleneck \"\"\"\n",
        "        b = self.b(p4)\n",
        "\n",
        "        \"\"\" Decoder \"\"\"\n",
        "        d1 = self.d1(b, s4)\n",
        "        d2 = self.d2(d1, s3)\n",
        "        d3 = self.d3(d2, s2)\n",
        "        d4 = self.d4(d3, s1)\n",
        "\n",
        "        outputs = self.outputs(d4)\n",
        "\n",
        "        return outputs\n"
      ]
    },
    {
      "cell_type": "code",
      "execution_count": 7,
      "metadata": {},
      "outputs": [
        {
          "name": "stdout",
          "output_type": "stream",
          "text": [
            "Dataset Size:\n",
            "Train: 500 - Valid: 200\n",
            "\n",
            "Epoch: 1\n",
            "Train...\n"
          ]
        },
        {
          "name": "stderr",
          "output_type": "stream",
          "text": [
            "100%|██████████| 125/125 [00:09<00:00, 13.36it/s]\n"
          ]
        },
        {
          "name": "stdout",
          "output_type": "stream",
          "text": [
            "Valid...\n"
          ]
        },
        {
          "name": "stderr",
          "output_type": "stream",
          "text": [
            "  8%|▊         | 4/50 [00:00<00:01, 39.10it/s]"
          ]
        },
        {
          "name": "stdout",
          "output_type": "stream",
          "text": [
            "tensor(0.7372, device='cuda:0')\n",
            "tensor(0.7535, device='cuda:0')\n",
            "tensor(0.6536, device='cuda:0')\n",
            "tensor(0.7471, device='cuda:0')\n",
            "tensor(0.5841, device='cuda:0')\n",
            "tensor(0.6881, device='cuda:0')\n",
            "tensor(0.7488, device='cuda:0')\n"
          ]
        },
        {
          "name": "stderr",
          "output_type": "stream",
          "text": [
            " 16%|█▌        | 8/50 [00:00<00:01, 39.34it/s]"
          ]
        },
        {
          "name": "stdout",
          "output_type": "stream",
          "text": [
            "tensor(0.4517, device='cuda:0')\n",
            "tensor(0.5927, device='cuda:0')\n"
          ]
        },
        {
          "name": "stderr",
          "output_type": "stream",
          "text": [
            " 26%|██▌       | 13/50 [00:00<00:00, 40.12it/s]"
          ]
        },
        {
          "name": "stdout",
          "output_type": "stream",
          "text": [
            "tensor(0.6647, device='cuda:0')\n",
            "tensor(0.6778, device='cuda:0')\n",
            "tensor(0.4096, device='cuda:0')\n",
            "tensor(0.3968, device='cuda:0')\n",
            "tensor(0.2926, device='cuda:0')\n",
            "tensor(0.3857, device='cuda:0')\n",
            "tensor(0.4027, device='cuda:0')\n"
          ]
        },
        {
          "name": "stderr",
          "output_type": "stream",
          "text": [
            " 36%|███▌      | 18/50 [00:00<00:00, 40.43it/s]"
          ]
        },
        {
          "name": "stdout",
          "output_type": "stream",
          "text": [
            "tensor(0.7054, device='cuda:0')\n",
            "tensor(0.7169, device='cuda:0')\n"
          ]
        },
        {
          "name": "stderr",
          "output_type": "stream",
          "text": [
            " 46%|████▌     | 23/50 [00:00<00:00, 40.62it/s]"
          ]
        },
        {
          "name": "stdout",
          "output_type": "stream",
          "text": [
            "tensor(0.6147, device='cuda:0')\n",
            "tensor(0.5166, device='cuda:0')\n",
            "tensor(0.8156, device='cuda:0')\n",
            "tensor(0.8534, device='cuda:0')\n",
            "tensor(0.6652, device='cuda:0')\n",
            "tensor(0.5533, device='cuda:0')\n",
            "tensor(0.6054, device='cuda:0')\n",
            "tensor(0.7240, device='cuda:0')\n",
            "tensor(0.7535, device='cuda:0')\n"
          ]
        },
        {
          "name": "stderr",
          "output_type": "stream",
          "text": [
            " 66%|██████▌   | 33/50 [00:00<00:00, 40.42it/s]"
          ]
        },
        {
          "name": "stdout",
          "output_type": "stream",
          "text": [
            "tensor(0.8038, device='cuda:0')\n",
            "tensor(0.7288, device='cuda:0')\n",
            "tensor(0.6523, device='cuda:0')\n",
            "tensor(0.7629, device='cuda:0')\n",
            "tensor(0.8265, device='cuda:0')\n",
            "tensor(0.7411, device='cuda:0')\n",
            "tensor(0.7705, device='cuda:0')\n",
            "tensor(0.7353, device='cuda:0')\n",
            "tensor(0.7573, device='cuda:0')\n"
          ]
        },
        {
          "name": "stderr",
          "output_type": "stream",
          "text": [
            " 86%|████████▌ | 43/50 [00:01<00:00, 40.28it/s]"
          ]
        },
        {
          "name": "stdout",
          "output_type": "stream",
          "text": [
            "tensor(0.6146, device='cuda:0')\n",
            "tensor(0.4424, device='cuda:0')\n",
            "tensor(0.4947, device='cuda:0')\n",
            "tensor(0.4697, device='cuda:0')\n",
            "tensor(0.7944, device='cuda:0')\n",
            "tensor(0.7972, device='cuda:0')\n",
            "tensor(0.8337, device='cuda:0')\n",
            "tensor(0.8338, device='cuda:0')\n",
            "tensor(0.8368, device='cuda:0')\n"
          ]
        },
        {
          "name": "stderr",
          "output_type": "stream",
          "text": [
            "100%|██████████| 50/50 [00:01<00:00, 40.34it/s]\n"
          ]
        },
        {
          "name": "stdout",
          "output_type": "stream",
          "text": [
            "tensor(0.9068, device='cuda:0')\n",
            "tensor(0.7491, device='cuda:0')\n",
            "tensor(0.8702, device='cuda:0')\n",
            "tensor(0.9173, device='cuda:0')\n",
            "tensor(0.8872, device='cuda:0')\n",
            "Mean IoU: 0.6787\n",
            "Valid loss improved from inf to 0.4360. Saving checkpoint: ./best.pth\n",
            "\tTrain Loss: 0.480\n",
            "\t Val. Loss: 0.436\n",
            "\n"
          ]
        },
        {
          "data": {
            "image/png": "[encoded data removed]",
            "text/plain": [
              "<Figure size 640x480 with 1 Axes>"
            ]
          },
          "metadata": {},
          "output_type": "display_data"
        },
        {
          "name": "stdout",
          "output_type": "stream",
          "text": [
            "Epoch: 2\n",
            "Train...\n"
          ]
        },
        {
          "name": "stderr",
          "output_type": "stream",
          "text": [
            "100%|██████████| 125/125 [00:09<00:00, 13.51it/s]\n"
          ]
        },
        {
          "name": "stdout",
          "output_type": "stream",
          "text": [
            "Valid...\n"
          ]
        },
        {
          "name": "stderr",
          "output_type": "stream",
          "text": [
            " 10%|█         | 5/50 [00:00<00:01, 40.56it/s]"
          ]
        },
        {
          "name": "stdout",
          "output_type": "stream",
          "text": [
            "tensor(0.7971, device='cuda:0')\n",
            "tensor(0.7769, device='cuda:0')\n",
            "tensor(0.7287, device='cuda:0')\n",
            "tensor(0.7839, device='cuda:0')\n",
            "tensor(0.6332, device='cuda:0')\n",
            "tensor(0.7111, device='cuda:0')\n",
            "tensor(0.7852, device='cuda:0')\n",
            "tensor(0.5768, device='cuda:0')\n",
            "tensor(0.7265, device='cuda:0')\n"
          ]
        },
        {
          "name": "stderr",
          "output_type": "stream",
          "text": [
            " 30%|███       | 15/50 [00:00<00:00, 40.79it/s]"
          ]
        },
        {
          "name": "stdout",
          "output_type": "stream",
          "text": [
            "tensor(0.6795, device='cuda:0')\n",
            "tensor(0.7078, device='cuda:0')\n",
            "tensor(0.5048, device='cuda:0')\n",
            "tensor(0.4184, device='cuda:0')\n",
            "tensor(0.3565, device='cuda:0')\n",
            "tensor(0.4043, device='cuda:0')\n",
            "tensor(0.4408, device='cuda:0')\n",
            "tensor(0.7525, device='cuda:0')\n",
            "tensor(0.7559, device='cuda:0')\n"
          ]
        },
        {
          "name": "stderr",
          "output_type": "stream",
          "text": [
            " 50%|█████     | 25/50 [00:00<00:00, 40.62it/s]"
          ]
        },
        {
          "name": "stdout",
          "output_type": "stream",
          "text": [
            "tensor(0.6241, device='cuda:0')\n",
            "tensor(0.5832, device='cuda:0')\n",
            "tensor(0.8734, device='cuda:0')\n",
            "tensor(0.9150, device='cuda:0')\n",
            "tensor(0.6921, device='cuda:0')\n",
            "tensor(0.5711, device='cuda:0')\n",
            "tensor(0.6627, device='cuda:0')\n",
            "tensor(0.8802, device='cuda:0')\n",
            "tensor(0.8405, device='cuda:0')\n"
          ]
        },
        {
          "name": "stderr",
          "output_type": "stream",
          "text": [
            " 70%|███████   | 35/50 [00:00<00:00, 40.35it/s]"
          ]
        },
        {
          "name": "stdout",
          "output_type": "stream",
          "text": [
            "tensor(0.8712, device='cuda:0')\n",
            "tensor(0.8693, device='cuda:0')\n",
            "tensor(0.6721, device='cuda:0')\n",
            "tensor(0.7754, device='cuda:0')\n",
            "tensor(0.8472, device='cuda:0')\n",
            "tensor(0.7833, device='cuda:0')\n",
            "tensor(0.7927, device='cuda:0')\n",
            "tensor(0.7595, device='cuda:0')\n",
            "tensor(0.7913, device='cuda:0')\n"
          ]
        },
        {
          "name": "stderr",
          "output_type": "stream",
          "text": [
            " 80%|████████  | 40/50 [00:00<00:00, 40.33it/s]"
          ]
        },
        {
          "name": "stdout",
          "output_type": "stream",
          "text": [
            "tensor(0.8930, device='cuda:0')\n",
            "tensor(0.5193, device='cuda:0')\n",
            "tensor(0.5806, device='cuda:0')\n",
            "tensor(0.4950, device='cuda:0')\n",
            "tensor(0.8052, device='cuda:0')\n",
            "tensor(0.7901, device='cuda:0')\n",
            "tensor(0.8475, device='cuda:0')\n",
            "tensor(0.9049, device='cuda:0')\n"
          ]
        },
        {
          "name": "stderr",
          "output_type": "stream",
          "text": [
            " 90%|█████████ | 45/50 [00:01<00:00, 40.25it/s]"
          ]
        },
        {
          "name": "stdout",
          "output_type": "stream",
          "text": [
            "tensor(0.8585, device='cuda:0')\n"
          ]
        },
        {
          "name": "stderr",
          "output_type": "stream",
          "text": [
            "100%|██████████| 50/50 [00:01<00:00, 40.41it/s]"
          ]
        },
        {
          "name": "stdout",
          "output_type": "stream",
          "text": [
            "tensor(0.9155, device='cuda:0')\n",
            "tensor(0.7561, device='cuda:0')\n",
            "tensor(0.9137, device='cuda:0')\n",
            "tensor(0.8574, device='cuda:0')\n",
            "tensor(0.9141, device='cuda:0')\n",
            "Mean IoU: 0.7279\n",
            "Valid loss improved from 0.4360 to 0.2536. Saving checkpoint: ./best.pth\n"
          ]
        },
        {
          "name": "stderr",
          "output_type": "stream",
          "text": [
            "\n"
          ]
        },
        {
          "name": "stdout",
          "output_type": "stream",
          "text": [
            "\tTrain Loss: 0.279\n",
            "\t Val. Loss: 0.254\n",
            "\n"
          ]
        },
        {
          "data": {
            "image/png": "[encoded data removed]",
            "text/plain": [
              "<Figure size 640x480 with 1 Axes>"
            ]
          },
          "metadata": {},
          "output_type": "display_data"
        },
        {
          "name": "stdout",
          "output_type": "stream",
          "text": [
            "Epoch: 3\n",
            "Train...\n"
          ]
        },
        {
          "name": "stderr",
          "output_type": "stream",
          "text": [
            "100%|██████████| 125/125 [00:09<00:00, 13.45it/s]\n"
          ]
        },
        {
          "name": "stdout",
          "output_type": "stream",
          "text": [
            "Valid...\n"
          ]
        },
        {
          "name": "stderr",
          "output_type": "stream",
          "text": [
            " 10%|█         | 5/50 [00:00<00:01, 40.36it/s]"
          ]
        },
        {
          "name": "stdout",
          "output_type": "stream",
          "text": [
            "tensor(0.7962, device='cuda:0')\n",
            "tensor(0.7745, device='cuda:0')\n",
            "tensor(0.7259, device='cuda:0')\n",
            "tensor(0.7871, device='cuda:0')\n",
            "tensor(0.6349, device='cuda:0')\n",
            "tensor(0.7106, device='cuda:0')\n",
            "tensor(0.7885, device='cuda:0')\n",
            "tensor(0.5794, device='cuda:0')\n",
            "tensor(0.7292, device='cuda:0')\n"
          ]
        },
        {
          "name": "stderr",
          "output_type": "stream",
          "text": [
            " 30%|███       | 15/50 [00:00<00:00, 40.49it/s]"
          ]
        },
        {
          "name": "stdout",
          "output_type": "stream",
          "text": [
            "tensor(0.6825, device='cuda:0')\n",
            "tensor(0.7079, device='cuda:0')\n",
            "tensor(0.5168, device='cuda:0')\n",
            "tensor(0.4184, device='cuda:0')\n",
            "tensor(0.3584, device='cuda:0')\n",
            "tensor(0.3657, device='cuda:0')\n",
            "tensor(0.4620, device='cuda:0')\n",
            "tensor(0.7305, device='cuda:0')\n",
            "tensor(0.7575, device='cuda:0')\n"
          ]
        },
        {
          "name": "stderr",
          "output_type": "stream",
          "text": [
            " 50%|█████     | 25/50 [00:00<00:00, 40.66it/s]"
          ]
        },
        {
          "name": "stdout",
          "output_type": "stream",
          "text": [
            "tensor(0.6298, device='cuda:0')\n",
            "tensor(0.5850, device='cuda:0')\n",
            "tensor(0.8734, device='cuda:0')\n",
            "tensor(0.9147, device='cuda:0')\n",
            "tensor(0.6921, device='cuda:0')\n",
            "tensor(0.5749, device='cuda:0')\n",
            "tensor(0.6630, device='cuda:0')\n",
            "tensor(0.8806, device='cuda:0')\n",
            "tensor(0.8339, device='cuda:0')\n"
          ]
        },
        {
          "name": "stderr",
          "output_type": "stream",
          "text": [
            " 70%|███████   | 35/50 [00:00<00:00, 40.54it/s]"
          ]
        },
        {
          "name": "stdout",
          "output_type": "stream",
          "text": [
            "tensor(0.8749, device='cuda:0')\n",
            "tensor(0.8703, device='cuda:0')\n",
            "tensor(0.6594, device='cuda:0')\n",
            "tensor(0.7703, device='cuda:0')\n",
            "tensor(0.8361, device='cuda:0')\n",
            "tensor(0.7916, device='cuda:0')\n",
            "tensor(0.7995, device='cuda:0')\n",
            "tensor(0.7607, device='cuda:0')\n",
            "tensor(0.7914, device='cuda:0')\n"
          ]
        },
        {
          "name": "stderr",
          "output_type": "stream",
          "text": [
            " 80%|████████  | 40/50 [00:00<00:00, 40.31it/s]"
          ]
        },
        {
          "name": "stdout",
          "output_type": "stream",
          "text": [
            "tensor(0.9031, device='cuda:0')\n",
            "tensor(0.4634, device='cuda:0')\n",
            "tensor(0.5829, device='cuda:0')\n",
            "tensor(0.4953, device='cuda:0')\n",
            "tensor(0.8215, device='cuda:0')\n",
            "tensor(0.8135, device='cuda:0')\n",
            "tensor(0.8490, device='cuda:0')\n",
            "tensor(0.8906, device='cuda:0')\n"
          ]
        },
        {
          "name": "stderr",
          "output_type": "stream",
          "text": [
            " 90%|█████████ | 45/50 [00:01<00:00, 40.10it/s]"
          ]
        },
        {
          "name": "stdout",
          "output_type": "stream",
          "text": [
            "tensor(0.8586, device='cuda:0')\n"
          ]
        },
        {
          "name": "stderr",
          "output_type": "stream",
          "text": [
            "100%|██████████| 50/50 [00:01<00:00, 40.34it/s]"
          ]
        },
        {
          "name": "stdout",
          "output_type": "stream",
          "text": [
            "tensor(0.9171, device='cuda:0')\n",
            "tensor(0.8045, device='cuda:0')\n",
            "tensor(0.9102, device='cuda:0')\n",
            "tensor(0.9352, device='cuda:0')\n",
            "tensor(0.9173, device='cuda:0')\n",
            "Mean IoU: 0.7298\n",
            "Valid loss improved from 0.2536 to 0.2231. Saving checkpoint: ./best.pth\n"
          ]
        },
        {
          "name": "stderr",
          "output_type": "stream",
          "text": [
            "\n"
          ]
        },
        {
          "name": "stdout",
          "output_type": "stream",
          "text": [
            "\tTrain Loss: 0.243\n",
            "\t Val. Loss: 0.223\n",
            "\n"
          ]
        },
        {
          "data": {
            "image/png": "[encoded data removed]",
            "text/plain": [
              "<Figure size 640x480 with 1 Axes>"
            ]
          },
          "metadata": {},
          "output_type": "display_data"
        },
        {
          "name": "stdout",
          "output_type": "stream",
          "text": [
            "Epoch: 4\n",
            "Train...\n"
          ]
        },
        {
          "name": "stderr",
          "output_type": "stream",
          "text": [
            "100%|██████████| 125/125 [00:09<00:00, 13.44it/s]\n"
          ]
        },
        {
          "name": "stdout",
          "output_type": "stream",
          "text": [
            "Valid...\n"
          ]
        },
        {
          "name": "stderr",
          "output_type": "stream",
          "text": [
            "  8%|▊         | 4/50 [00:00<00:01, 39.16it/s]"
          ]
        },
        {
          "name": "stdout",
          "output_type": "stream",
          "text": [
            "tensor(0.7955, device='cuda:0')\n",
            "tensor(0.6176, device='cuda:0')\n",
            "tensor(0.7033, device='cuda:0')\n",
            "tensor(0.7830, device='cuda:0')\n",
            "tensor(0.6353, device='cuda:0')\n",
            "tensor(0.7124, device='cuda:0')\n",
            "tensor(0.7886, device='cuda:0')\n"
          ]
        },
        {
          "name": "stderr",
          "output_type": "stream",
          "text": [
            " 18%|█▊        | 9/50 [00:00<00:01, 39.97it/s]"
          ]
        },
        {
          "name": "stdout",
          "output_type": "stream",
          "text": [
            "tensor(0.5789, device='cuda:0')\n",
            "tensor(0.7280, device='cuda:0')\n"
          ]
        },
        {
          "name": "stderr",
          "output_type": "stream",
          "text": [
            " 28%|██▊       | 14/50 [00:00<00:00, 40.16it/s]"
          ]
        },
        {
          "name": "stdout",
          "output_type": "stream",
          "text": [
            "tensor(0.6848, device='cuda:0')\n",
            "tensor(0.7098, device='cuda:0')\n",
            "tensor(0.5182, device='cuda:0')\n",
            "tensor(0.3877, device='cuda:0')\n",
            "tensor(0.3587, device='cuda:0')\n",
            "tensor(0.4124, device='cuda:0')\n",
            "tensor(0.4383, device='cuda:0')\n",
            "tensor(0.7655, device='cuda:0')\n",
            "tensor(0.5790, device='cuda:0')\n"
          ]
        },
        {
          "name": "stderr",
          "output_type": "stream",
          "text": [
            " 48%|████▊     | 24/50 [00:00<00:00, 40.38it/s]"
          ]
        },
        {
          "name": "stdout",
          "output_type": "stream",
          "text": [
            "tensor(0.6259, device='cuda:0')\n",
            "tensor(0.5850, device='cuda:0')\n",
            "tensor(0.8743, device='cuda:0')\n",
            "tensor(0.9131, device='cuda:0')\n",
            "tensor(0.6938, device='cuda:0')\n",
            "tensor(0.4506, device='cuda:0')\n",
            "tensor(0.6649, device='cuda:0')\n",
            "tensor(0.8806, device='cuda:0')\n",
            "tensor(0.6485, device='cuda:0')\n"
          ]
        },
        {
          "name": "stderr",
          "output_type": "stream",
          "text": [
            " 68%|██████▊   | 34/50 [00:00<00:00, 40.11it/s]"
          ]
        },
        {
          "name": "stdout",
          "output_type": "stream",
          "text": [
            "tensor(0.8595, device='cuda:0')\n",
            "tensor(0.8743, device='cuda:0')\n",
            "tensor(0.6699, device='cuda:0')\n",
            "tensor(0.7708, device='cuda:0')\n",
            "tensor(0.8509, device='cuda:0')\n",
            "tensor(0.8003, device='cuda:0')\n",
            "tensor(0.8050, device='cuda:0')\n",
            "tensor(0.7606, device='cuda:0')\n",
            "tensor(0.7754, device='cuda:0')\n"
          ]
        },
        {
          "name": "stderr",
          "output_type": "stream",
          "text": [
            " 78%|███████▊  | 39/50 [00:00<00:00, 40.08it/s]"
          ]
        },
        {
          "name": "stdout",
          "output_type": "stream",
          "text": [
            "tensor(0.8982, device='cuda:0')\n",
            "tensor(0.4896, device='cuda:0')\n",
            "tensor(0.5707, device='cuda:0')\n",
            "tensor(0.4972, device='cuda:0')\n",
            "tensor(0.6547, device='cuda:0')\n",
            "tensor(0.7099, device='cuda:0')\n",
            "tensor(0.6714, device='cuda:0')\n"
          ]
        },
        {
          "name": "stderr",
          "output_type": "stream",
          "text": [
            " 88%|████████▊ | 44/50 [00:01<00:00, 40.06it/s]"
          ]
        },
        {
          "name": "stdout",
          "output_type": "stream",
          "text": [
            "tensor(0.8006, device='cuda:0')\n"
          ]
        },
        {
          "name": "stderr",
          "output_type": "stream",
          "text": [
            "100%|██████████| 50/50 [00:01<00:00, 40.08it/s]"
          ]
        },
        {
          "name": "stdout",
          "output_type": "stream",
          "text": [
            "tensor(0.8343, device='cuda:0')\n",
            "tensor(0.7600, device='cuda:0')\n",
            "tensor(0.1942, device='cuda:0')\n",
            "tensor(0.2403, device='cuda:0')\n",
            "tensor(0.7196, device='cuda:0')\n",
            "tensor(0.7481, device='cuda:0')\n",
            "Mean IoU: 0.6698\n",
            "\tTrain Loss: 0.174\n",
            "\t Val. Loss: 0.339\n",
            "\n"
          ]
        },
        {
          "name": "stderr",
          "output_type": "stream",
          "text": [
            "\n"
          ]
        },
        {
          "data": {
            "image/png": "[encoded data removed]",
            "text/plain": [
              "<Figure size 640x480 with 1 Axes>"
            ]
          },
          "metadata": {},
          "output_type": "display_data"
        },
        {
          "name": "stdout",
          "output_type": "stream",
          "text": [
            "Epoch: 5\n",
            "Train...\n"
          ]
        },
        {
          "name": "stderr",
          "output_type": "stream",
          "text": [
            "100%|██████████| 125/125 [00:09<00:00, 13.40it/s]\n"
          ]
        },
        {
          "name": "stdout",
          "output_type": "stream",
          "text": [
            "Valid...\n"
          ]
        },
        {
          "name": "stderr",
          "output_type": "stream",
          "text": [
            " 10%|█         | 5/50 [00:00<00:01, 41.01it/s]"
          ]
        },
        {
          "name": "stdout",
          "output_type": "stream",
          "text": [
            "tensor(0.7896, device='cuda:0')\n",
            "tensor(0.7776, device='cuda:0')\n",
            "tensor(0.7288, device='cuda:0')\n",
            "tensor(0.7868, device='cuda:0')\n",
            "tensor(0.6442, device='cuda:0')\n",
            "tensor(0.7172, device='cuda:0')\n",
            "tensor(0.7892, device='cuda:0')\n",
            "tensor(0.5805, device='cuda:0')\n",
            "tensor(0.7261, device='cuda:0')\n"
          ]
        },
        {
          "name": "stderr",
          "output_type": "stream",
          "text": [
            " 30%|███       | 15/50 [00:00<00:00, 40.16it/s]"
          ]
        },
        {
          "name": "stdout",
          "output_type": "stream",
          "text": [
            "tensor(0.6837, device='cuda:0')\n",
            "tensor(0.7098, device='cuda:0')\n",
            "tensor(0.5182, device='cuda:0')\n",
            "tensor(0.4173, device='cuda:0')\n",
            "tensor(0.3590, device='cuda:0')\n",
            "tensor(0.4095, device='cuda:0')\n",
            "tensor(0.4453, device='cuda:0')\n",
            "tensor(0.7430, device='cuda:0')\n",
            "tensor(0.7559, device='cuda:0')\n"
          ]
        },
        {
          "name": "stderr",
          "output_type": "stream",
          "text": [
            " 50%|█████     | 25/50 [00:00<00:00, 40.01it/s]"
          ]
        },
        {
          "name": "stdout",
          "output_type": "stream",
          "text": [
            "tensor(0.6254, device='cuda:0')\n",
            "tensor(0.5871, device='cuda:0')\n",
            "tensor(0.8774, device='cuda:0')\n",
            "tensor(0.9145, device='cuda:0')\n",
            "tensor(0.7053, device='cuda:0')\n",
            "tensor(0.5591, device='cuda:0')\n",
            "tensor(0.6717, device='cuda:0')\n",
            "tensor(0.8808, device='cuda:0')\n",
            "tensor(0.8377, device='cuda:0')\n"
          ]
        },
        {
          "name": "stderr",
          "output_type": "stream",
          "text": [
            " 70%|███████   | 35/50 [00:00<00:00, 40.18it/s]"
          ]
        },
        {
          "name": "stdout",
          "output_type": "stream",
          "text": [
            "tensor(0.8855, device='cuda:0')\n",
            "tensor(0.7901, device='cuda:0')\n",
            "tensor(0.6742, device='cuda:0')\n",
            "tensor(0.7568, device='cuda:0')\n",
            "tensor(0.8524, device='cuda:0')\n",
            "tensor(0.7977, device='cuda:0')\n",
            "tensor(0.8062, device='cuda:0')\n",
            "tensor(0.7624, device='cuda:0')\n",
            "tensor(0.7937, device='cuda:0')\n"
          ]
        },
        {
          "name": "stderr",
          "output_type": "stream",
          "text": [
            " 80%|████████  | 40/50 [00:00<00:00, 40.00it/s]"
          ]
        },
        {
          "name": "stdout",
          "output_type": "stream",
          "text": [
            "tensor(0.9031, device='cuda:0')\n",
            "tensor(0.5029, device='cuda:0')\n",
            "tensor(0.5779, device='cuda:0')\n",
            "tensor(0.4935, device='cuda:0')\n",
            "tensor(0.7932, device='cuda:0')\n",
            "tensor(0.7783, device='cuda:0')\n",
            "tensor(0.6415, device='cuda:0')\n",
            "tensor(0.8703, device='cuda:0')\n"
          ]
        },
        {
          "name": "stderr",
          "output_type": "stream",
          "text": [
            " 90%|█████████ | 45/50 [00:01<00:00, 39.92it/s]"
          ]
        },
        {
          "name": "stdout",
          "output_type": "stream",
          "text": [
            "tensor(0.8443, device='cuda:0')\n"
          ]
        },
        {
          "name": "stderr",
          "output_type": "stream",
          "text": [
            "100%|██████████| 50/50 [00:01<00:00, 39.98it/s]"
          ]
        },
        {
          "name": "stdout",
          "output_type": "stream",
          "text": [
            "tensor(0.9008, device='cuda:0')\n",
            "tensor(0.6142, device='cuda:0')\n",
            "tensor(0.8714, device='cuda:0')\n",
            "tensor(0.8087, device='cuda:0')\n",
            "tensor(0.8050, device='cuda:0')\n",
            "Mean IoU: 0.7153\n",
            "Valid loss improved from 0.2231 to 0.2163. Saving checkpoint: ./best.pth\n"
          ]
        },
        {
          "name": "stderr",
          "output_type": "stream",
          "text": [
            "\n"
          ]
        },
        {
          "name": "stdout",
          "output_type": "stream",
          "text": [
            "\tTrain Loss: 0.156\n",
            "\t Val. Loss: 0.216\n",
            "\n"
          ]
        },
        {
          "data": {
            "image/png": "[encoded data removed]",
            "text/plain": [
              "<Figure size 640x480 with 1 Axes>"
            ]
          },
          "metadata": {},
          "output_type": "display_data"
        },
        {
          "name": "stdout",
          "output_type": "stream",
          "text": [
            "Epoch: 6\n",
            "Train...\n"
          ]
        },
        {
          "name": "stderr",
          "output_type": "stream",
          "text": [
            "100%|██████████| 125/125 [00:09<00:00, 13.37it/s]\n"
          ]
        },
        {
          "name": "stdout",
          "output_type": "stream",
          "text": [
            "Valid...\n"
          ]
        },
        {
          "name": "stderr",
          "output_type": "stream",
          "text": [
            " 10%|█         | 5/50 [00:00<00:01, 39.70it/s]"
          ]
        },
        {
          "name": "stdout",
          "output_type": "stream",
          "text": [
            "tensor(0.7961, device='cuda:0')\n",
            "tensor(0.7777, device='cuda:0')\n",
            "tensor(0.7275, device='cuda:0')\n",
            "tensor(0.7825, device='cuda:0')\n",
            "tensor(0.6319, device='cuda:0')\n",
            "tensor(0.7123, device='cuda:0')\n",
            "tensor(0.7866, device='cuda:0')\n",
            "tensor(0.5786, device='cuda:0')\n"
          ]
        },
        {
          "name": "stderr",
          "output_type": "stream",
          "text": [
            " 26%|██▌       | 13/50 [00:00<00:00, 39.33it/s]"
          ]
        },
        {
          "name": "stdout",
          "output_type": "stream",
          "text": [
            "tensor(0.7294, device='cuda:0')\n",
            "tensor(0.6856, device='cuda:0')\n",
            "tensor(0.7077, device='cuda:0')\n",
            "tensor(0.5181, device='cuda:0')\n",
            "tensor(0.4225, device='cuda:0')\n",
            "tensor(0.3602, device='cuda:0')\n",
            "tensor(0.4076, device='cuda:0')\n",
            "tensor(0.4516, device='cuda:0')\n",
            "tensor(0.7279, device='cuda:0')\n"
          ]
        },
        {
          "name": "stderr",
          "output_type": "stream",
          "text": [
            " 44%|████▍     | 22/50 [00:00<00:00, 39.51it/s]"
          ]
        },
        {
          "name": "stdout",
          "output_type": "stream",
          "text": [
            "tensor(0.7572, device='cuda:0')\n",
            "tensor(0.6238, device='cuda:0')\n",
            "tensor(0.5849, device='cuda:0')\n",
            "tensor(0.8667, device='cuda:0')\n",
            "tensor(0.9138, device='cuda:0')\n",
            "tensor(0.6848, device='cuda:0')\n",
            "tensor(0.5746, device='cuda:0')\n",
            "tensor(0.6644, device='cuda:0')\n"
          ]
        },
        {
          "name": "stderr",
          "output_type": "stream",
          "text": [
            " 60%|██████    | 30/50 [00:00<00:00, 39.65it/s]"
          ]
        },
        {
          "name": "stdout",
          "output_type": "stream",
          "text": [
            "tensor(0.8821, device='cuda:0')\n",
            "tensor(0.8332, device='cuda:0')\n",
            "tensor(0.8717, device='cuda:0')\n",
            "tensor(0.8756, device='cuda:0')\n",
            "tensor(0.6740, device='cuda:0')\n",
            "tensor(0.7754, device='cuda:0')\n",
            "tensor(0.8350, device='cuda:0')\n"
          ]
        },
        {
          "name": "stderr",
          "output_type": "stream",
          "text": [
            " 68%|██████▊   | 34/50 [00:00<00:00, 39.73it/s]"
          ]
        },
        {
          "name": "stdout",
          "output_type": "stream",
          "text": [
            "tensor(0.7936, device='cuda:0')\n",
            "tensor(0.8072, device='cuda:0')\n"
          ]
        },
        {
          "name": "stderr",
          "output_type": "stream",
          "text": [
            " 76%|███████▌  | 38/50 [00:00<00:00, 39.70it/s]"
          ]
        },
        {
          "name": "stdout",
          "output_type": "stream",
          "text": [
            "tensor(0.7609, device='cuda:0')\n",
            "tensor(0.7906, device='cuda:0')\n",
            "tensor(0.9028, device='cuda:0')\n",
            "tensor(0.4576, device='cuda:0')\n",
            "tensor(0.5742, device='cuda:0')\n",
            "tensor(0.4717, device='cuda:0')\n"
          ]
        },
        {
          "name": "stderr",
          "output_type": "stream",
          "text": [
            " 84%|████████▍ | 42/50 [00:01<00:00, 39.65it/s]"
          ]
        },
        {
          "name": "stdout",
          "output_type": "stream",
          "text": [
            "tensor(0.8146, device='cuda:0')\n",
            "tensor(0.8137, device='cuda:0')\n"
          ]
        },
        {
          "name": "stderr",
          "output_type": "stream",
          "text": [
            " 94%|█████████▍| 47/50 [00:01<00:00, 39.85it/s]"
          ]
        },
        {
          "name": "stdout",
          "output_type": "stream",
          "text": [
            "tensor(0.8486, device='cuda:0')\n",
            "tensor(0.9119, device='cuda:0')\n",
            "tensor(0.6982, device='cuda:0')\n",
            "tensor(0.7913, device='cuda:0')\n",
            "tensor(0.7431, device='cuda:0')\n",
            "tensor(0.9141, device='cuda:0')\n",
            "tensor(0.9343, device='cuda:0')\n"
          ]
        },
        {
          "name": "stderr",
          "output_type": "stream",
          "text": [
            "100%|██████████| 50/50 [00:01<00:00, 39.60it/s]"
          ]
        },
        {
          "name": "stdout",
          "output_type": "stream",
          "text": [
            "tensor(0.9184, device='cuda:0')\n",
            "Mean IoU: 0.7234\n",
            "Valid loss improved from 0.2163 to 0.1334. Saving checkpoint: ./best.pth\n"
          ]
        },
        {
          "name": "stderr",
          "output_type": "stream",
          "text": [
            "\n"
          ]
        },
        {
          "name": "stdout",
          "output_type": "stream",
          "text": [
            "\tTrain Loss: 0.123\n",
            "\t Val. Loss: 0.133\n",
            "\n"
          ]
        },
        {
          "data": {
            "image/png": "[encoded data removed]",
            "text/plain": [
              "<Figure size 640x480 with 1 Axes>"
            ]
          },
          "metadata": {},
          "output_type": "display_data"
        },
        {
          "name": "stdout",
          "output_type": "stream",
          "text": [
            "Epoch: 7\n",
            "Train...\n"
          ]
        },
        {
          "name": "stderr",
          "output_type": "stream",
          "text": [
            "100%|██████████| 125/125 [00:09<00:00, 13.35it/s]\n"
          ]
        },
        {
          "name": "stdout",
          "output_type": "stream",
          "text": [
            "Valid...\n"
          ]
        },
        {
          "name": "stderr",
          "output_type": "stream",
          "text": [
            " 10%|█         | 5/50 [00:00<00:01, 40.46it/s]"
          ]
        },
        {
          "name": "stdout",
          "output_type": "stream",
          "text": [
            "tensor(0.7969, device='cuda:0')\n",
            "tensor(0.7786, device='cuda:0')\n",
            "tensor(0.7264, device='cuda:0')\n",
            "tensor(0.7842, device='cuda:0')\n",
            "tensor(0.6326, device='cuda:0')\n",
            "tensor(0.7124, device='cuda:0')\n",
            "tensor(0.7883, device='cuda:0')\n",
            "tensor(0.5798, device='cuda:0')\n",
            "tensor(0.7307, device='cuda:0')\n"
          ]
        },
        {
          "name": "stderr",
          "output_type": "stream",
          "text": [
            " 28%|██▊       | 14/50 [00:00<00:00, 39.84it/s]"
          ]
        },
        {
          "name": "stdout",
          "output_type": "stream",
          "text": [
            "tensor(0.6863, device='cuda:0')\n",
            "tensor(0.7083, device='cuda:0')\n",
            "tensor(0.5181, device='cuda:0')\n",
            "tensor(0.4226, device='cuda:0')\n",
            "tensor(0.3606, device='cuda:0')\n",
            "tensor(0.4125, device='cuda:0')\n",
            "tensor(0.4697, device='cuda:0')\n",
            "tensor(0.7530, device='cuda:0')\n"
          ]
        },
        {
          "name": "stderr",
          "output_type": "stream",
          "text": [
            " 46%|████▌     | 23/50 [00:00<00:00, 39.84it/s]"
          ]
        },
        {
          "name": "stdout",
          "output_type": "stream",
          "text": [
            "tensor(0.7589, device='cuda:0')\n",
            "tensor(0.6259, device='cuda:0')\n",
            "tensor(0.5846, device='cuda:0')\n",
            "tensor(0.8719, device='cuda:0')\n",
            "tensor(0.9130, device='cuda:0')\n",
            "tensor(0.6852, device='cuda:0')\n",
            "tensor(0.5740, device='cuda:0')\n",
            "tensor(0.6639, device='cuda:0')\n"
          ]
        },
        {
          "name": "stderr",
          "output_type": "stream",
          "text": [
            " 64%|██████▍   | 32/50 [00:00<00:00, 39.78it/s]"
          ]
        },
        {
          "name": "stdout",
          "output_type": "stream",
          "text": [
            "tensor(0.8809, device='cuda:0')\n",
            "tensor(0.8315, device='cuda:0')\n",
            "tensor(0.8815, device='cuda:0')\n",
            "tensor(0.8738, device='cuda:0')\n",
            "tensor(0.6751, device='cuda:0')\n",
            "tensor(0.7755, device='cuda:0')\n",
            "tensor(0.8513, device='cuda:0')\n",
            "tensor(0.8002, device='cuda:0')\n"
          ]
        },
        {
          "name": "stderr",
          "output_type": "stream",
          "text": [
            " 82%|████████▏ | 41/50 [00:01<00:00, 39.89it/s]"
          ]
        },
        {
          "name": "stdout",
          "output_type": "stream",
          "text": [
            "tensor(0.8064, device='cuda:0')\n",
            "tensor(0.7606, device='cuda:0')\n",
            "tensor(0.7909, device='cuda:0')\n",
            "tensor(0.9029, device='cuda:0')\n",
            "tensor(0.4728, device='cuda:0')\n",
            "tensor(0.5714, device='cuda:0')\n",
            "tensor(0.4975, device='cuda:0')\n",
            "tensor(0.8156, device='cuda:0')\n"
          ]
        },
        {
          "name": "stderr",
          "output_type": "stream",
          "text": [
            " 98%|█████████▊| 49/50 [00:01<00:00, 39.88it/s]"
          ]
        },
        {
          "name": "stdout",
          "output_type": "stream",
          "text": [
            "tensor(0.8157, device='cuda:0')\n",
            "tensor(0.8487, device='cuda:0')\n",
            "tensor(0.9085, device='cuda:0')\n",
            "tensor(0.8519, device='cuda:0')\n",
            "tensor(0.9215, device='cuda:0')\n",
            "tensor(0.7706, device='cuda:0')\n",
            "tensor(0.9354, device='cuda:0')\n",
            "tensor(0.9344, device='cuda:0')\n"
          ]
        },
        {
          "name": "stderr",
          "output_type": "stream",
          "text": [
            "100%|██████████| 50/50 [00:01<00:00, 39.81it/s]\n"
          ]
        },
        {
          "name": "stdout",
          "output_type": "stream",
          "text": [
            "tensor(0.9195, device='cuda:0')\n",
            "Mean IoU: 0.7327\n",
            "Valid loss improved from 0.1334 to 0.1093. Saving checkpoint: ./best.pth\n",
            "\tTrain Loss: 0.103\n",
            "\t Val. Loss: 0.109\n",
            "\n"
          ]
        },
        {
          "data": {
            "image/png": "[encoded data removed]",
            "text/plain": [
              "<Figure size 640x480 with 1 Axes>"
            ]
          },
          "metadata": {},
          "output_type": "display_data"
        },
        {
          "name": "stdout",
          "output_type": "stream",
          "text": [
            "Epoch: 8\n",
            "Train...\n"
          ]
        },
        {
          "name": "stderr",
          "output_type": "stream",
          "text": [
            "100%|██████████| 125/125 [00:09<00:00, 13.34it/s]\n"
          ]
        },
        {
          "name": "stdout",
          "output_type": "stream",
          "text": [
            "Valid...\n"
          ]
        },
        {
          "name": "stderr",
          "output_type": "stream",
          "text": [
            "  8%|▊         | 4/50 [00:00<00:01, 39.54it/s]"
          ]
        },
        {
          "name": "stdout",
          "output_type": "stream",
          "text": [
            "tensor(0.7970, device='cuda:0')\n",
            "tensor(0.7751, device='cuda:0')\n",
            "tensor(0.7258, device='cuda:0')\n",
            "tensor(0.7869, device='cuda:0')\n",
            "tensor(0.6340, device='cuda:0')\n",
            "tensor(0.7120, device='cuda:0')\n",
            "tensor(0.7861, device='cuda:0')\n"
          ]
        },
        {
          "name": "stderr",
          "output_type": "stream",
          "text": [
            " 16%|█▌        | 8/50 [00:00<00:01, 39.77it/s]"
          ]
        },
        {
          "name": "stdout",
          "output_type": "stream",
          "text": [
            "tensor(0.5789, device='cuda:0')\n",
            "tensor(0.7163, device='cuda:0')\n"
          ]
        },
        {
          "name": "stderr",
          "output_type": "stream",
          "text": [
            " 24%|██▍       | 12/50 [00:00<00:00, 39.86it/s]"
          ]
        },
        {
          "name": "stdout",
          "output_type": "stream",
          "text": [
            "tensor(0.6844, device='cuda:0')\n",
            "tensor(0.7072, device='cuda:0')\n",
            "tensor(0.5066, device='cuda:0')\n",
            "tensor(0.4203, device='cuda:0')\n",
            "tensor(0.3563, device='cuda:0')\n",
            "tensor(0.4064, device='cuda:0')\n"
          ]
        },
        {
          "name": "stderr",
          "output_type": "stream",
          "text": [
            " 32%|███▏      | 16/50 [00:00<00:00, 39.50it/s]"
          ]
        },
        {
          "name": "stdout",
          "output_type": "stream",
          "text": [
            "tensor(0.4697, device='cuda:0')\n",
            "tensor(0.7268, device='cuda:0')\n"
          ]
        },
        {
          "name": "stderr",
          "output_type": "stream",
          "text": [
            " 40%|████      | 20/50 [00:00<00:00, 39.52it/s]"
          ]
        },
        {
          "name": "stdout",
          "output_type": "stream",
          "text": [
            "tensor(0.7582, device='cuda:0')\n",
            "tensor(0.6240, device='cuda:0')\n",
            "tensor(0.5849, device='cuda:0')\n",
            "tensor(0.8718, device='cuda:0')\n",
            "tensor(0.9139, device='cuda:0')\n",
            "tensor(0.6844, device='cuda:0')\n"
          ]
        },
        {
          "name": "stderr",
          "output_type": "stream",
          "text": [
            " 48%|████▊     | 24/50 [00:00<00:00, 39.40it/s]"
          ]
        },
        {
          "name": "stdout",
          "output_type": "stream",
          "text": [
            "tensor(0.5740, device='cuda:0')\n",
            "tensor(0.6619, device='cuda:0')\n"
          ]
        },
        {
          "name": "stderr",
          "output_type": "stream",
          "text": [
            " 56%|█████▌    | 28/50 [00:00<00:00, 39.46it/s]"
          ]
        },
        {
          "name": "stdout",
          "output_type": "stream",
          "text": [
            "tensor(0.8817, device='cuda:0')\n",
            "tensor(0.8340, device='cuda:0')\n",
            "tensor(0.8801, device='cuda:0')\n",
            "tensor(0.8725, device='cuda:0')\n",
            "tensor(0.6740, device='cuda:0')\n",
            "tensor(0.7760, device='cuda:0')\n"
          ]
        },
        {
          "name": "stderr",
          "output_type": "stream",
          "text": [
            " 64%|██████▍   | 32/50 [00:00<00:00, 39.50it/s]"
          ]
        },
        {
          "name": "stdout",
          "output_type": "stream",
          "text": [
            "tensor(0.8475, device='cuda:0')\n",
            "tensor(0.7895, device='cuda:0')\n"
          ]
        },
        {
          "name": "stderr",
          "output_type": "stream",
          "text": [
            " 72%|███████▏  | 36/50 [00:00<00:00, 39.42it/s]"
          ]
        },
        {
          "name": "stdout",
          "output_type": "stream",
          "text": [
            "tensor(0.8069, device='cuda:0')\n",
            "tensor(0.7615, device='cuda:0')\n",
            "tensor(0.7924, device='cuda:0')\n",
            "tensor(0.9023, device='cuda:0')\n",
            "tensor(0.4547, device='cuda:0')\n",
            "tensor(0.5801, device='cuda:0')\n"
          ]
        },
        {
          "name": "stderr",
          "output_type": "stream",
          "text": [
            " 80%|████████  | 40/50 [00:01<00:00, 39.55it/s]"
          ]
        },
        {
          "name": "stdout",
          "output_type": "stream",
          "text": [
            "tensor(0.4847, device='cuda:0')\n",
            "tensor(0.8141, device='cuda:0')\n"
          ]
        },
        {
          "name": "stderr",
          "output_type": "stream",
          "text": [
            " 88%|████████▊ | 44/50 [00:01<00:00, 39.63it/s]"
          ]
        },
        {
          "name": "stdout",
          "output_type": "stream",
          "text": [
            "tensor(0.7799, device='cuda:0')\n",
            "tensor(0.8448, device='cuda:0')\n",
            "tensor(0.9124, device='cuda:0')\n",
            "tensor(0.8099, device='cuda:0')\n",
            "tensor(0.8395, device='cuda:0')\n",
            "tensor(0.6971, device='cuda:0')\n"
          ]
        },
        {
          "name": "stderr",
          "output_type": "stream",
          "text": [
            " 96%|█████████▌| 48/50 [00:01<00:00, 39.51it/s]"
          ]
        },
        {
          "name": "stdout",
          "output_type": "stream",
          "text": [
            "tensor(0.9363, device='cuda:0')\n",
            "tensor(0.9078, device='cuda:0')\n"
          ]
        },
        {
          "name": "stderr",
          "output_type": "stream",
          "text": [
            "100%|██████████| 50/50 [00:01<00:00, 39.55it/s]\n"
          ]
        },
        {
          "name": "stdout",
          "output_type": "stream",
          "text": [
            "tensor(0.9176, device='cuda:0')\n",
            "Mean IoU: 0.7252\n",
            "\tTrain Loss: 0.088\n",
            "\t Val. Loss: 0.114\n",
            "\n"
          ]
        },
        {
          "data": {
            "image/png": "[encoded data removed]",
            "text/plain": [
              "<Figure size 640x480 with 1 Axes>"
            ]
          },
          "metadata": {},
          "output_type": "display_data"
        },
        {
          "name": "stdout",
          "output_type": "stream",
          "text": [
            "Epoch: 9\n",
            "Train...\n"
          ]
        },
        {
          "name": "stderr",
          "output_type": "stream",
          "text": [
            "100%|██████████| 125/125 [00:09<00:00, 13.28it/s]\n"
          ]
        },
        {
          "name": "stdout",
          "output_type": "stream",
          "text": [
            "Valid...\n"
          ]
        },
        {
          "name": "stderr",
          "output_type": "stream",
          "text": [
            " 10%|█         | 5/50 [00:00<00:01, 40.05it/s]"
          ]
        },
        {
          "name": "stdout",
          "output_type": "stream",
          "text": [
            "tensor(0.7964, device='cuda:0')\n",
            "tensor(0.7785, device='cuda:0')\n",
            "tensor(0.7276, device='cuda:0')\n",
            "tensor(0.7841, device='cuda:0')\n",
            "tensor(0.6339, device='cuda:0')\n",
            "tensor(0.7126, device='cuda:0')\n",
            "tensor(0.7890, device='cuda:0')\n",
            "tensor(0.5793, device='cuda:0')\n",
            "tensor(0.7304, device='cuda:0')\n"
          ]
        },
        {
          "name": "stderr",
          "output_type": "stream",
          "text": [
            " 28%|██▊       | 14/50 [00:00<00:00, 39.84it/s]"
          ]
        },
        {
          "name": "stdout",
          "output_type": "stream",
          "text": [
            "tensor(0.6866, device='cuda:0')\n",
            "tensor(0.7091, device='cuda:0')\n",
            "tensor(0.5195, device='cuda:0')\n",
            "tensor(0.4230, device='cuda:0')\n",
            "tensor(0.3611, device='cuda:0')\n",
            "tensor(0.4127, device='cuda:0')\n",
            "tensor(0.4696, device='cuda:0')\n",
            "tensor(0.7287, device='cuda:0')\n"
          ]
        },
        {
          "name": "stderr",
          "output_type": "stream",
          "text": [
            " 44%|████▍     | 22/50 [00:00<00:00, 39.78it/s]"
          ]
        },
        {
          "name": "stdout",
          "output_type": "stream",
          "text": [
            "tensor(0.7588, device='cuda:0')\n",
            "tensor(0.6259, device='cuda:0')\n",
            "tensor(0.5851, device='cuda:0')\n",
            "tensor(0.8724, device='cuda:0')\n",
            "tensor(0.9133, device='cuda:0')\n",
            "tensor(0.6855, device='cuda:0')\n",
            "tensor(0.5752, device='cuda:0')\n",
            "tensor(0.6642, device='cuda:0')\n"
          ]
        },
        {
          "name": "stderr",
          "output_type": "stream",
          "text": [
            " 60%|██████    | 30/50 [00:00<00:00, 39.75it/s]"
          ]
        },
        {
          "name": "stdout",
          "output_type": "stream",
          "text": [
            "tensor(0.8824, device='cuda:0')\n",
            "tensor(0.8319, device='cuda:0')\n",
            "tensor(0.8803, device='cuda:0')\n",
            "tensor(0.8742, device='cuda:0')\n",
            "tensor(0.6745, device='cuda:0')\n",
            "tensor(0.7769, device='cuda:0')\n",
            "tensor(0.8510, device='cuda:0')\n",
            "tensor(0.7971, device='cuda:0')\n"
          ]
        },
        {
          "name": "stderr",
          "output_type": "stream",
          "text": [
            " 76%|███████▌  | 38/50 [00:00<00:00, 39.59it/s]"
          ]
        },
        {
          "name": "stdout",
          "output_type": "stream",
          "text": [
            "tensor(0.8059, device='cuda:0')\n",
            "tensor(0.7598, device='cuda:0')\n",
            "tensor(0.7919, device='cuda:0')\n",
            "tensor(0.9022, device='cuda:0')\n",
            "tensor(0.4566, device='cuda:0')\n",
            "tensor(0.5768, device='cuda:0')\n",
            "tensor(0.4982, device='cuda:0')\n",
            "tensor(0.8157, device='cuda:0')\n"
          ]
        },
        {
          "name": "stderr",
          "output_type": "stream",
          "text": [
            " 92%|█████████▏| 46/50 [00:01<00:00, 39.73it/s]"
          ]
        },
        {
          "name": "stdout",
          "output_type": "stream",
          "text": [
            "tensor(0.8168, device='cuda:0')\n",
            "tensor(0.8417, device='cuda:0')\n",
            "tensor(0.9125, device='cuda:0')\n",
            "tensor(0.8557, device='cuda:0')\n",
            "tensor(0.9203, device='cuda:0')\n",
            "tensor(0.7753, device='cuda:0')\n"
          ]
        },
        {
          "name": "stderr",
          "output_type": "stream",
          "text": [
            "100%|██████████| 50/50 [00:01<00:00, 39.76it/s]"
          ]
        },
        {
          "name": "stdout",
          "output_type": "stream",
          "text": [
            "tensor(0.9191, device='cuda:0')\n",
            "tensor(0.9309, device='cuda:0')\n",
            "tensor(0.9191, device='cuda:0')\n"
          ]
        },
        {
          "name": "stderr",
          "output_type": "stream",
          "text": [
            "\n"
          ]
        },
        {
          "name": "stdout",
          "output_type": "stream",
          "text": [
            "Mean IoU: 0.7318\n",
            "Valid loss improved from 0.1093 to 0.0793. Saving checkpoint: ./best.pth\n",
            "\tTrain Loss: 0.075\n",
            "\t Val. Loss: 0.079\n",
            "\n"
          ]
        },
        {
          "data": {
            "image/png": "[encoded data removed]",
            "text/plain": [
              "<Figure size 640x480 with 1 Axes>"
            ]
          },
          "metadata": {},
          "output_type": "display_data"
        },
        {
          "name": "stdout",
          "output_type": "stream",
          "text": [
            "Epoch: 10\n",
            "Train...\n"
          ]
        },
        {
          "name": "stderr",
          "output_type": "stream",
          "text": [
            "100%|██████████| 125/125 [00:09<00:00, 13.26it/s]\n"
          ]
        },
        {
          "name": "stdout",
          "output_type": "stream",
          "text": [
            "Valid...\n"
          ]
        },
        {
          "name": "stderr",
          "output_type": "stream",
          "text": [
            " 10%|█         | 5/50 [00:00<00:01, 40.69it/s]"
          ]
        },
        {
          "name": "stdout",
          "output_type": "stream",
          "text": [
            "tensor(0.7975, device='cuda:0')\n",
            "tensor(0.7795, device='cuda:0')\n",
            "tensor(0.7286, device='cuda:0')\n",
            "tensor(0.7849, device='cuda:0')\n",
            "tensor(0.6335, device='cuda:0')\n",
            "tensor(0.7128, device='cuda:0')\n",
            "tensor(0.7890, device='cuda:0')\n",
            "tensor(0.5799, device='cuda:0')\n",
            "tensor(0.7308, device='cuda:0')\n"
          ]
        },
        {
          "name": "stderr",
          "output_type": "stream",
          "text": [
            " 28%|██▊       | 14/50 [00:00<00:00, 39.88it/s]"
          ]
        },
        {
          "name": "stdout",
          "output_type": "stream",
          "text": [
            "tensor(0.6871, device='cuda:0')\n",
            "tensor(0.7092, device='cuda:0')\n",
            "tensor(0.5188, device='cuda:0')\n",
            "tensor(0.4229, device='cuda:0')\n",
            "tensor(0.3611, device='cuda:0')\n",
            "tensor(0.4128, device='cuda:0')\n",
            "tensor(0.4716, device='cuda:0')\n",
            "tensor(0.7287, device='cuda:0')\n"
          ]
        },
        {
          "name": "stderr",
          "output_type": "stream",
          "text": [
            " 44%|████▍     | 22/50 [00:00<00:00, 39.66it/s]"
          ]
        },
        {
          "name": "stdout",
          "output_type": "stream",
          "text": [
            "tensor(0.7588, device='cuda:0')\n",
            "tensor(0.6258, device='cuda:0')\n",
            "tensor(0.5850, device='cuda:0')\n",
            "tensor(0.8723, device='cuda:0')\n",
            "tensor(0.9141, device='cuda:0')\n",
            "tensor(0.6846, device='cuda:0')\n",
            "tensor(0.5752, device='cuda:0')\n",
            "tensor(0.6640, device='cuda:0')\n"
          ]
        },
        {
          "name": "stderr",
          "output_type": "stream",
          "text": [
            " 60%|██████    | 30/50 [00:00<00:00, 39.65it/s]"
          ]
        },
        {
          "name": "stdout",
          "output_type": "stream",
          "text": [
            "tensor(0.8813, device='cuda:0')\n",
            "tensor(0.8342, device='cuda:0')\n",
            "tensor(0.8806, device='cuda:0')\n",
            "tensor(0.8749, device='cuda:0')\n",
            "tensor(0.6763, device='cuda:0')\n",
            "tensor(0.7783, device='cuda:0')\n",
            "tensor(0.8500, device='cuda:0')\n",
            "tensor(0.7957, device='cuda:0')\n"
          ]
        },
        {
          "name": "stderr",
          "output_type": "stream",
          "text": [
            " 76%|███████▌  | 38/50 [00:00<00:00, 39.59it/s]"
          ]
        },
        {
          "name": "stdout",
          "output_type": "stream",
          "text": [
            "tensor(0.8062, device='cuda:0')\n",
            "tensor(0.7609, device='cuda:0')\n",
            "tensor(0.7906, device='cuda:0')\n",
            "tensor(0.9049, device='cuda:0')\n",
            "tensor(0.4568, device='cuda:0')\n",
            "tensor(0.5768, device='cuda:0')\n",
            "tensor(0.4961, device='cuda:0')\n",
            "tensor(0.8160, device='cuda:0')\n"
          ]
        },
        {
          "name": "stderr",
          "output_type": "stream",
          "text": [
            " 92%|█████████▏| 46/50 [00:01<00:00, 39.41it/s]"
          ]
        },
        {
          "name": "stdout",
          "output_type": "stream",
          "text": [
            "tensor(0.8163, device='cuda:0')\n",
            "tensor(0.8485, device='cuda:0')\n",
            "tensor(0.9106, device='cuda:0')\n",
            "tensor(0.8541, device='cuda:0')\n",
            "tensor(0.9210, device='cuda:0')\n",
            "tensor(0.7752, device='cuda:0')\n",
            "tensor(0.9309, device='cuda:0')\n",
            "tensor(0.9352, device='cuda:0')\n"
          ]
        },
        {
          "name": "stderr",
          "output_type": "stream",
          "text": [
            "100%|██████████| 50/50 [00:01<00:00, 39.58it/s]\n"
          ]
        },
        {
          "name": "stdout",
          "output_type": "stream",
          "text": [
            "tensor(0.9191, device='cuda:0')\n",
            "Mean IoU: 0.7324\n",
            "Valid loss improved from 0.0793 to 0.0669. Saving checkpoint: ./best.pth\n",
            "\tTrain Loss: 0.059\n",
            "\t Val. Loss: 0.067\n",
            "\n"
          ]
        },
        {
          "data": {
            "image/png": "[encoded data removed]",
            "text/plain": [
              "<Figure size 640x480 with 1 Axes>"
            ]
          },
          "metadata": {},
          "output_type": "display_data"
        },
        {
          "name": "stdout",
          "output_type": "stream",
          "text": [
            "Epoch: 11\n",
            "Train...\n"
          ]
        },
        {
          "name": "stderr",
          "output_type": "stream",
          "text": [
            "100%|██████████| 125/125 [00:09<00:00, 13.21it/s]\n"
          ]
        },
        {
          "name": "stdout",
          "output_type": "stream",
          "text": [
            "Valid...\n"
          ]
        },
        {
          "name": "stderr",
          "output_type": "stream",
          "text": [
            "  8%|▊         | 4/50 [00:00<00:01, 38.91it/s]"
          ]
        },
        {
          "name": "stdout",
          "output_type": "stream",
          "text": [
            "tensor(0.7977, device='cuda:0')\n",
            "tensor(0.7795, device='cuda:0')\n",
            "tensor(0.7290, device='cuda:0')\n",
            "tensor(0.7852, device='cuda:0')\n",
            "tensor(0.6342, device='cuda:0')\n",
            "tensor(0.7131, device='cuda:0')\n",
            "tensor(0.7893, device='cuda:0')\n"
          ]
        },
        {
          "name": "stderr",
          "output_type": "stream",
          "text": [
            " 16%|█▌        | 8/50 [00:00<00:01, 38.76it/s]"
          ]
        },
        {
          "name": "stdout",
          "output_type": "stream",
          "text": [
            "tensor(0.5803, device='cuda:0')\n"
          ]
        },
        {
          "name": "stderr",
          "output_type": "stream",
          "text": [
            " 24%|██▍       | 12/50 [00:00<00:00, 38.88it/s]"
          ]
        },
        {
          "name": "stdout",
          "output_type": "stream",
          "text": [
            "tensor(0.7306, device='cuda:0')\n",
            "tensor(0.6870, device='cuda:0')\n",
            "tensor(0.7097, device='cuda:0')\n",
            "tensor(0.5186, device='cuda:0')\n",
            "tensor(0.4233, device='cuda:0')\n",
            "tensor(0.3619, device='cuda:0')\n",
            "tensor(0.4128, device='cuda:0')\n"
          ]
        },
        {
          "name": "stderr",
          "output_type": "stream",
          "text": [
            " 32%|███▏      | 16/50 [00:00<00:00, 39.04it/s]"
          ]
        },
        {
          "name": "stdout",
          "output_type": "stream",
          "text": [
            "tensor(0.4715, device='cuda:0')\n"
          ]
        },
        {
          "name": "stderr",
          "output_type": "stream",
          "text": [
            " 40%|████      | 20/50 [00:00<00:00, 39.19it/s]"
          ]
        },
        {
          "name": "stdout",
          "output_type": "stream",
          "text": [
            "tensor(0.7295, device='cuda:0')\n",
            "tensor(0.7587, device='cuda:0')\n",
            "tensor(0.6264, device='cuda:0')\n",
            "tensor(0.5851, device='cuda:0')\n",
            "tensor(0.8730, device='cuda:0')\n",
            "tensor(0.9140, device='cuda:0')\n",
            "tensor(0.6857, device='cuda:0')\n"
          ]
        },
        {
          "name": "stderr",
          "output_type": "stream",
          "text": [
            " 48%|████▊     | 24/50 [00:00<00:00, 39.24it/s]"
          ]
        },
        {
          "name": "stdout",
          "output_type": "stream",
          "text": [
            "tensor(0.5757, device='cuda:0')\n"
          ]
        },
        {
          "name": "stderr",
          "output_type": "stream",
          "text": [
            " 56%|█████▌    | 28/50 [00:00<00:00, 39.26it/s]"
          ]
        },
        {
          "name": "stdout",
          "output_type": "stream",
          "text": [
            "tensor(0.6649, device='cuda:0')\n",
            "tensor(0.8823, device='cuda:0')\n",
            "tensor(0.8341, device='cuda:0')\n",
            "tensor(0.8814, device='cuda:0')\n",
            "tensor(0.8745, device='cuda:0')\n",
            "tensor(0.6754, device='cuda:0')\n",
            "tensor(0.7779, device='cuda:0')\n"
          ]
        },
        {
          "name": "stderr",
          "output_type": "stream",
          "text": [
            " 64%|██████▍   | 32/50 [00:00<00:00, 39.32it/s]"
          ]
        },
        {
          "name": "stdout",
          "output_type": "stream",
          "text": [
            "tensor(0.8509, device='cuda:0')\n"
          ]
        },
        {
          "name": "stderr",
          "output_type": "stream",
          "text": [
            " 72%|███████▏  | 36/50 [00:00<00:00, 39.34it/s]"
          ]
        },
        {
          "name": "stdout",
          "output_type": "stream",
          "text": [
            "tensor(0.7975, device='cuda:0')\n",
            "tensor(0.8065, device='cuda:0')\n",
            "tensor(0.7614, device='cuda:0')\n",
            "tensor(0.7922, device='cuda:0')\n",
            "tensor(0.9047, device='cuda:0')\n",
            "tensor(0.4568, device='cuda:0')\n",
            "tensor(0.5771, device='cuda:0')\n"
          ]
        },
        {
          "name": "stderr",
          "output_type": "stream",
          "text": [
            " 80%|████████  | 40/50 [00:01<00:00, 39.34it/s]"
          ]
        },
        {
          "name": "stdout",
          "output_type": "stream",
          "text": [
            "tensor(0.4958, device='cuda:0')\n"
          ]
        },
        {
          "name": "stderr",
          "output_type": "stream",
          "text": [
            " 88%|████████▊ | 44/50 [00:01<00:00, 39.27it/s]"
          ]
        },
        {
          "name": "stdout",
          "output_type": "stream",
          "text": [
            "tensor(0.8088, device='cuda:0')\n",
            "tensor(0.8152, device='cuda:0')\n",
            "tensor(0.8486, device='cuda:0')\n",
            "tensor(0.9125, device='cuda:0')\n",
            "tensor(0.8545, device='cuda:0')\n",
            "tensor(0.9225, device='cuda:0')\n",
            "tensor(0.7866, device='cuda:0')\n"
          ]
        },
        {
          "name": "stderr",
          "output_type": "stream",
          "text": [
            " 96%|█████████▌| 48/50 [00:01<00:00, 39.31it/s]"
          ]
        },
        {
          "name": "stdout",
          "output_type": "stream",
          "text": [
            "tensor(0.9367, device='cuda:0')\n"
          ]
        },
        {
          "name": "stderr",
          "output_type": "stream",
          "text": [
            "100%|██████████| 50/50 [00:01<00:00, 39.22it/s]\n"
          ]
        },
        {
          "name": "stdout",
          "output_type": "stream",
          "text": [
            "tensor(0.9357, device='cuda:0')\n",
            "tensor(0.9194, device='cuda:0')\n",
            "Mean IoU: 0.7329\n",
            "Valid loss improved from 0.0669 to 0.0574. Saving checkpoint: ./best.pth\n",
            "\tTrain Loss: 0.052\n",
            "\t Val. Loss: 0.057\n",
            "\n"
          ]
        },
        {
          "data": {
            "image/png": "[encoded data removed]",
            "text/plain": [
              "<Figure size 640x480 with 1 Axes>"
            ]
          },
          "metadata": {},
          "output_type": "display_data"
        },
        {
          "name": "stdout",
          "output_type": "stream",
          "text": [
            "Epoch: 12\n",
            "Train...\n"
          ]
        },
        {
          "name": "stderr",
          "output_type": "stream",
          "text": [
            "100%|██████████| 125/125 [00:09<00:00, 13.21it/s]\n"
          ]
        },
        {
          "name": "stdout",
          "output_type": "stream",
          "text": [
            "Valid...\n"
          ]
        },
        {
          "name": "stderr",
          "output_type": "stream",
          "text": [
            " 10%|█         | 5/50 [00:00<00:01, 40.27it/s]"
          ]
        },
        {
          "name": "stdout",
          "output_type": "stream",
          "text": [
            "tensor(0.7977, device='cuda:0')\n",
            "tensor(0.7776, device='cuda:0')\n",
            "tensor(0.7285, device='cuda:0')\n",
            "tensor(0.7851, device='cuda:0')\n",
            "tensor(0.6334, device='cuda:0')\n",
            "tensor(0.7124, device='cuda:0')\n",
            "tensor(0.7888, device='cuda:0')\n",
            "tensor(0.5801, device='cuda:0')\n",
            "tensor(0.7307, device='cuda:0')\n"
          ]
        },
        {
          "name": "stderr",
          "output_type": "stream",
          "text": [
            " 28%|██▊       | 14/50 [00:00<00:00, 39.56it/s]"
          ]
        },
        {
          "name": "stdout",
          "output_type": "stream",
          "text": [
            "tensor(0.6868, device='cuda:0')\n",
            "tensor(0.7093, device='cuda:0')\n",
            "tensor(0.5186, device='cuda:0')\n",
            "tensor(0.4232, device='cuda:0')\n",
            "tensor(0.3610, device='cuda:0')\n",
            "tensor(0.4133, device='cuda:0')\n",
            "tensor(0.4719, device='cuda:0')\n",
            "tensor(0.7287, device='cuda:0')\n"
          ]
        },
        {
          "name": "stderr",
          "output_type": "stream",
          "text": [
            " 44%|████▍     | 22/50 [00:00<00:00, 39.52it/s]"
          ]
        },
        {
          "name": "stdout",
          "output_type": "stream",
          "text": [
            "tensor(0.7584, device='cuda:0')\n",
            "tensor(0.6245, device='cuda:0')\n",
            "tensor(0.5850, device='cuda:0')\n",
            "tensor(0.8720, device='cuda:0')\n",
            "tensor(0.9129, device='cuda:0')\n",
            "tensor(0.6852, device='cuda:0')\n",
            "tensor(0.5752, device='cuda:0')\n",
            "tensor(0.6542, device='cuda:0')\n"
          ]
        },
        {
          "name": "stderr",
          "output_type": "stream",
          "text": [
            " 60%|██████    | 30/50 [00:00<00:00, 39.61it/s]"
          ]
        },
        {
          "name": "stdout",
          "output_type": "stream",
          "text": [
            "tensor(0.8807, device='cuda:0')\n",
            "tensor(0.8326, device='cuda:0')\n",
            "tensor(0.8833, device='cuda:0')\n",
            "tensor(0.8014, device='cuda:0')\n",
            "tensor(0.6744, device='cuda:0')\n",
            "tensor(0.7768, device='cuda:0')\n",
            "tensor(0.8499, device='cuda:0')\n",
            "tensor(0.7835, device='cuda:0')\n"
          ]
        },
        {
          "name": "stderr",
          "output_type": "stream",
          "text": [
            " 78%|███████▊  | 39/50 [00:00<00:00, 39.72it/s]"
          ]
        },
        {
          "name": "stdout",
          "output_type": "stream",
          "text": [
            "tensor(0.8055, device='cuda:0')\n",
            "tensor(0.7607, device='cuda:0')\n",
            "tensor(0.7905, device='cuda:0')\n",
            "tensor(0.9037, device='cuda:0')\n",
            "tensor(0.4544, device='cuda:0')\n",
            "tensor(0.5831, device='cuda:0')\n",
            "tensor(0.4951, device='cuda:0')\n",
            "tensor(0.8148, device='cuda:0')\n"
          ]
        },
        {
          "name": "stderr",
          "output_type": "stream",
          "text": [
            " 94%|█████████▍| 47/50 [00:01<00:00, 39.60it/s]"
          ]
        },
        {
          "name": "stdout",
          "output_type": "stream",
          "text": [
            "tensor(0.8172, device='cuda:0')\n",
            "tensor(0.8440, device='cuda:0')\n",
            "tensor(0.9130, device='cuda:0')\n",
            "tensor(0.8549, device='cuda:0')\n",
            "tensor(0.9209, device='cuda:0')\n",
            "tensor(0.7988, device='cuda:0')\n",
            "tensor(0.9342, device='cuda:0')\n",
            "tensor(0.9346, device='cuda:0')\n"
          ]
        },
        {
          "name": "stderr",
          "output_type": "stream",
          "text": [
            "100%|██████████| 50/50 [00:01<00:00, 39.58it/s]\n"
          ]
        },
        {
          "name": "stdout",
          "output_type": "stream",
          "text": [
            "tensor(0.9189, device='cuda:0')\n",
            "Mean IoU: 0.7308\n",
            "\tTrain Loss: 0.048\n",
            "\t Val. Loss: 0.064\n",
            "\n"
          ]
        },
        {
          "data": {
            "image/png": "[encoded data removed]",
            "text/plain": [
              "<Figure size 640x480 with 1 Axes>"
            ]
          },
          "metadata": {},
          "output_type": "display_data"
        },
        {
          "name": "stdout",
          "output_type": "stream",
          "text": [
            "Epoch: 13\n",
            "Train...\n"
          ]
        },
        {
          "name": "stderr",
          "output_type": "stream",
          "text": [
            "100%|██████████| 125/125 [00:09<00:00, 13.10it/s]\n"
          ]
        },
        {
          "name": "stdout",
          "output_type": "stream",
          "text": [
            "Valid...\n"
          ]
        },
        {
          "name": "stderr",
          "output_type": "stream",
          "text": [
            "  8%|▊         | 4/50 [00:00<00:01, 37.66it/s]"
          ]
        },
        {
          "name": "stdout",
          "output_type": "stream",
          "text": [
            "tensor(0.7951, device='cuda:0')\n",
            "tensor(0.7778, device='cuda:0')\n",
            "tensor(0.7293, device='cuda:0')\n",
            "tensor(0.7840, device='cuda:0')\n",
            "tensor(0.6353, device='cuda:0')\n",
            "tensor(0.7136, device='cuda:0')\n",
            "tensor(0.7896, device='cuda:0')\n"
          ]
        },
        {
          "name": "stderr",
          "output_type": "stream",
          "text": [
            " 16%|█▌        | 8/50 [00:00<00:01, 36.48it/s]"
          ]
        },
        {
          "name": "stdout",
          "output_type": "stream",
          "text": [
            "tensor(0.5813, device='cuda:0')\n"
          ]
        },
        {
          "name": "stderr",
          "output_type": "stream",
          "text": [
            " 24%|██▍       | 12/50 [00:00<00:01, 37.30it/s]"
          ]
        },
        {
          "name": "stdout",
          "output_type": "stream",
          "text": [
            "tensor(0.7273, device='cuda:0')\n",
            "tensor(0.6872, device='cuda:0')\n",
            "tensor(0.7092, device='cuda:0')\n",
            "tensor(0.5185, device='cuda:0')\n",
            "tensor(0.3586, device='cuda:0')\n",
            "tensor(0.3624, device='cuda:0')\n",
            "tensor(0.4126, device='cuda:0')\n"
          ]
        },
        {
          "name": "stderr",
          "output_type": "stream",
          "text": [
            " 32%|███▏      | 16/50 [00:00<00:00, 37.27it/s]"
          ]
        },
        {
          "name": "stdout",
          "output_type": "stream",
          "text": [
            "tensor(0.4699, device='cuda:0')\n"
          ]
        },
        {
          "name": "stderr",
          "output_type": "stream",
          "text": [
            " 40%|████      | 20/50 [00:00<00:00, 37.56it/s]"
          ]
        },
        {
          "name": "stdout",
          "output_type": "stream",
          "text": [
            "tensor(0.7290, device='cuda:0')\n",
            "tensor(0.7592, device='cuda:0')\n",
            "tensor(0.6265, device='cuda:0')\n",
            "tensor(0.5844, device='cuda:0')\n",
            "tensor(0.8729, device='cuda:0')\n",
            "tensor(0.9137, device='cuda:0')\n",
            "tensor(0.6861, device='cuda:0')\n"
          ]
        },
        {
          "name": "stderr",
          "output_type": "stream",
          "text": [
            " 48%|████▊     | 24/50 [00:00<00:00, 37.69it/s]"
          ]
        },
        {
          "name": "stdout",
          "output_type": "stream",
          "text": [
            "tensor(0.5769, device='cuda:0')\n"
          ]
        },
        {
          "name": "stderr",
          "output_type": "stream",
          "text": [
            " 56%|█████▌    | 28/50 [00:00<00:00, 37.86it/s]"
          ]
        },
        {
          "name": "stdout",
          "output_type": "stream",
          "text": [
            "tensor(0.6653, device='cuda:0')\n",
            "tensor(0.8787, device='cuda:0')\n",
            "tensor(0.8329, device='cuda:0')\n",
            "tensor(0.8803, device='cuda:0')\n",
            "tensor(0.8752, device='cuda:0')\n",
            "tensor(0.6747, device='cuda:0')\n",
            "tensor(0.7727, device='cuda:0')\n"
          ]
        },
        {
          "name": "stderr",
          "output_type": "stream",
          "text": [
            " 64%|██████▍   | 32/50 [00:00<00:00, 38.16it/s]"
          ]
        },
        {
          "name": "stdout",
          "output_type": "stream",
          "text": [
            "tensor(0.8435, device='cuda:0')\n"
          ]
        },
        {
          "name": "stderr",
          "output_type": "stream",
          "text": [
            " 72%|███████▏  | 36/50 [00:00<00:00, 38.31it/s]"
          ]
        },
        {
          "name": "stdout",
          "output_type": "stream",
          "text": [
            "tensor(0.7967, device='cuda:0')\n",
            "tensor(0.7944, device='cuda:0')\n",
            "tensor(0.7611, device='cuda:0')\n",
            "tensor(0.7927, device='cuda:0')\n",
            "tensor(0.9027, device='cuda:0')\n",
            "tensor(0.4614, device='cuda:0')\n",
            "tensor(0.5769, device='cuda:0')\n"
          ]
        },
        {
          "name": "stderr",
          "output_type": "stream",
          "text": [
            " 80%|████████  | 40/50 [00:01<00:00, 38.49it/s]"
          ]
        },
        {
          "name": "stdout",
          "output_type": "stream",
          "text": [
            "tensor(0.4864, device='cuda:0')\n"
          ]
        },
        {
          "name": "stderr",
          "output_type": "stream",
          "text": [
            " 88%|████████▊ | 44/50 [00:01<00:00, 38.45it/s]"
          ]
        },
        {
          "name": "stdout",
          "output_type": "stream",
          "text": [
            "tensor(0.7987, device='cuda:0')\n",
            "tensor(0.8177, device='cuda:0')\n",
            "tensor(0.8059, device='cuda:0')\n",
            "tensor(0.8528, device='cuda:0')\n",
            "tensor(0.8113, device='cuda:0')\n",
            "tensor(0.9100, device='cuda:0')\n",
            "tensor(0.7053, device='cuda:0')\n"
          ]
        },
        {
          "name": "stderr",
          "output_type": "stream",
          "text": [
            " 96%|█████████▌| 48/50 [00:01<00:00, 38.77it/s]"
          ]
        },
        {
          "name": "stdout",
          "output_type": "stream",
          "text": [
            "tensor(0.6844, device='cuda:0')\n"
          ]
        },
        {
          "name": "stderr",
          "output_type": "stream",
          "text": [
            "100%|██████████| 50/50 [00:01<00:00, 38.12it/s]\n"
          ]
        },
        {
          "name": "stdout",
          "output_type": "stream",
          "text": [
            "tensor(0.9345, device='cuda:0')\n",
            "tensor(0.5867, device='cuda:0')\n",
            "Mean IoU: 0.7141\n",
            "\tTrain Loss: 0.058\n",
            "\t Val. Loss: 0.129\n",
            "\n"
          ]
        },
        {
          "data": {
            "image/png": "[encoded data removed]",
            "text/plain": [
              "<Figure size 640x480 with 1 Axes>"
            ]
          },
          "metadata": {},
          "output_type": "display_data"
        },
        {
          "name": "stdout",
          "output_type": "stream",
          "text": [
            "Epoch: 14\n",
            "Train...\n"
          ]
        },
        {
          "name": "stderr",
          "output_type": "stream",
          "text": [
            "100%|██████████| 125/125 [00:09<00:00, 13.09it/s]\n"
          ]
        },
        {
          "name": "stdout",
          "output_type": "stream",
          "text": [
            "Valid...\n"
          ]
        },
        {
          "name": "stderr",
          "output_type": "stream",
          "text": [
            " 10%|█         | 5/50 [00:00<00:01, 40.06it/s]"
          ]
        },
        {
          "name": "stdout",
          "output_type": "stream",
          "text": [
            "tensor(0.7964, device='cuda:0')\n",
            "tensor(0.7789, device='cuda:0')\n",
            "tensor(0.7291, device='cuda:0')\n",
            "tensor(0.7838, device='cuda:0')\n",
            "tensor(0.6341, device='cuda:0')\n",
            "tensor(0.7128, device='cuda:0')\n",
            "tensor(0.7893, device='cuda:0')\n",
            "tensor(0.5806, device='cuda:0')\n",
            "tensor(0.7296, device='cuda:0')\n"
          ]
        },
        {
          "name": "stderr",
          "output_type": "stream",
          "text": [
            " 28%|██▊       | 14/50 [00:00<00:00, 39.75it/s]"
          ]
        },
        {
          "name": "stdout",
          "output_type": "stream",
          "text": [
            "tensor(0.6862, device='cuda:0')\n",
            "tensor(0.7098, device='cuda:0')\n",
            "tensor(0.5184, device='cuda:0')\n",
            "tensor(0.4229, device='cuda:0')\n",
            "tensor(0.3612, device='cuda:0')\n",
            "tensor(0.4116, device='cuda:0')\n",
            "tensor(0.4456, device='cuda:0')\n",
            "tensor(0.7287, device='cuda:0')\n"
          ]
        },
        {
          "name": "stderr",
          "output_type": "stream",
          "text": [
            " 44%|████▍     | 22/50 [00:00<00:00, 39.45it/s]"
          ]
        },
        {
          "name": "stdout",
          "output_type": "stream",
          "text": [
            "tensor(0.7574, device='cuda:0')\n",
            "tensor(0.6250, device='cuda:0')\n",
            "tensor(0.5856, device='cuda:0')\n",
            "tensor(0.8727, device='cuda:0')\n",
            "tensor(0.9135, device='cuda:0')\n",
            "tensor(0.6912, device='cuda:0')\n",
            "tensor(0.5746, device='cuda:0')\n",
            "tensor(0.6644, device='cuda:0')\n"
          ]
        },
        {
          "name": "stderr",
          "output_type": "stream",
          "text": [
            " 60%|██████    | 30/50 [00:00<00:00, 39.56it/s]"
          ]
        },
        {
          "name": "stdout",
          "output_type": "stream",
          "text": [
            "tensor(0.8803, device='cuda:0')\n",
            "tensor(0.8341, device='cuda:0')\n",
            "tensor(0.8809, device='cuda:0')\n",
            "tensor(0.8746, device='cuda:0')\n",
            "tensor(0.6729, device='cuda:0')\n",
            "tensor(0.7767, device='cuda:0')\n",
            "tensor(0.8482, device='cuda:0')\n",
            "tensor(0.7968, device='cuda:0')\n"
          ]
        },
        {
          "name": "stderr",
          "output_type": "stream",
          "text": [
            " 78%|███████▊  | 39/50 [00:00<00:00, 39.70it/s]"
          ]
        },
        {
          "name": "stdout",
          "output_type": "stream",
          "text": [
            "tensor(0.8079, device='cuda:0')\n",
            "tensor(0.7612, device='cuda:0')\n",
            "tensor(0.7906, device='cuda:0')\n",
            "tensor(0.8927, device='cuda:0')\n",
            "tensor(0.4644, device='cuda:0')\n",
            "tensor(0.5768, device='cuda:0')\n",
            "tensor(0.4941, device='cuda:0')\n",
            "tensor(0.8088, device='cuda:0')\n"
          ]
        },
        {
          "name": "stderr",
          "output_type": "stream",
          "text": [
            " 94%|█████████▍| 47/50 [00:01<00:00, 39.60it/s]"
          ]
        },
        {
          "name": "stdout",
          "output_type": "stream",
          "text": [
            "tensor(0.8156, device='cuda:0')\n",
            "tensor(0.8481, device='cuda:0')\n",
            "tensor(0.9126, device='cuda:0')\n",
            "tensor(0.7752, device='cuda:0')\n",
            "tensor(0.9212, device='cuda:0')\n",
            "tensor(0.7708, device='cuda:0')\n",
            "tensor(0.8116, device='cuda:0')\n",
            "tensor(0.8833, device='cuda:0')\n"
          ]
        },
        {
          "name": "stderr",
          "output_type": "stream",
          "text": [
            "100%|██████████| 50/50 [00:01<00:00, 39.54it/s]\n"
          ]
        },
        {
          "name": "stdout",
          "output_type": "stream",
          "text": [
            "tensor(0.9197, device='cuda:0')\n",
            "Mean IoU: 0.7264\n",
            "\tTrain Loss: 0.063\n",
            "\t Val. Loss: 0.078\n",
            "\n"
          ]
        },
        {
          "data": {
            "image/png": "[encoded data removed]",
            "text/plain": [
              "<Figure size 640x480 with 1 Axes>"
            ]
          },
          "metadata": {},
          "output_type": "display_data"
        },
        {
          "name": "stdout",
          "output_type": "stream",
          "text": [
            "Epoch: 15\n",
            "Train...\n"
          ]
        },
        {
          "name": "stderr",
          "output_type": "stream",
          "text": [
            "100%|██████████| 125/125 [00:09<00:00, 13.13it/s]\n"
          ]
        },
        {
          "name": "stdout",
          "output_type": "stream",
          "text": [
            "Valid...\n"
          ]
        },
        {
          "name": "stderr",
          "output_type": "stream",
          "text": [
            "  8%|▊         | 4/50 [00:00<00:01, 39.45it/s]"
          ]
        },
        {
          "name": "stdout",
          "output_type": "stream",
          "text": [
            "tensor(0.7973, device='cuda:0')\n",
            "tensor(0.7789, device='cuda:0')\n",
            "tensor(0.7282, device='cuda:0')\n",
            "tensor(0.7837, device='cuda:0')\n",
            "tensor(0.6331, device='cuda:0')\n",
            "tensor(0.7125, device='cuda:0')\n",
            "tensor(0.7887, device='cuda:0')\n"
          ]
        },
        {
          "name": "stderr",
          "output_type": "stream",
          "text": [
            " 16%|█▌        | 8/50 [00:00<00:01, 38.46it/s]"
          ]
        },
        {
          "name": "stdout",
          "output_type": "stream",
          "text": [
            "tensor(0.5798, device='cuda:0')\n"
          ]
        },
        {
          "name": "stderr",
          "output_type": "stream",
          "text": [
            " 24%|██▍       | 12/50 [00:00<00:00, 38.80it/s]"
          ]
        },
        {
          "name": "stdout",
          "output_type": "stream",
          "text": [
            "tensor(0.7296, device='cuda:0')\n",
            "tensor(0.6867, device='cuda:0')\n",
            "tensor(0.7090, device='cuda:0')\n",
            "tensor(0.5193, device='cuda:0')\n",
            "tensor(0.4233, device='cuda:0')\n",
            "tensor(0.3614, device='cuda:0')\n",
            "tensor(0.4117, device='cuda:0')\n"
          ]
        },
        {
          "name": "stderr",
          "output_type": "stream",
          "text": [
            " 32%|███▏      | 16/50 [00:00<00:00, 39.21it/s]"
          ]
        },
        {
          "name": "stdout",
          "output_type": "stream",
          "text": [
            "tensor(0.4706, device='cuda:0')\n"
          ]
        },
        {
          "name": "stderr",
          "output_type": "stream",
          "text": [
            " 40%|████      | 20/50 [00:00<00:00, 39.37it/s]"
          ]
        },
        {
          "name": "stdout",
          "output_type": "stream",
          "text": [
            "tensor(0.7292, device='cuda:0')\n",
            "tensor(0.7584, device='cuda:0')\n",
            "tensor(0.6253, device='cuda:0')\n",
            "tensor(0.5845, device='cuda:0')\n",
            "tensor(0.8717, device='cuda:0')\n",
            "tensor(0.9138, device='cuda:0')\n",
            "tensor(0.6854, device='cuda:0')\n"
          ]
        },
        {
          "name": "stderr",
          "output_type": "stream",
          "text": [
            " 48%|████▊     | 24/50 [00:00<00:00, 39.33it/s]"
          ]
        },
        {
          "name": "stdout",
          "output_type": "stream",
          "text": [
            "tensor(0.5753, device='cuda:0')\n"
          ]
        },
        {
          "name": "stderr",
          "output_type": "stream",
          "text": [
            " 56%|█████▌    | 28/50 [00:00<00:00, 39.31it/s]"
          ]
        },
        {
          "name": "stdout",
          "output_type": "stream",
          "text": [
            "tensor(0.6646, device='cuda:0')\n",
            "tensor(0.8809, device='cuda:0')\n",
            "tensor(0.8341, device='cuda:0')\n",
            "tensor(0.8823, device='cuda:0')\n",
            "tensor(0.8737, device='cuda:0')\n",
            "tensor(0.6745, device='cuda:0')\n",
            "tensor(0.7770, device='cuda:0')\n"
          ]
        },
        {
          "name": "stderr",
          "output_type": "stream",
          "text": [
            " 64%|██████▍   | 32/50 [00:00<00:00, 39.36it/s]"
          ]
        },
        {
          "name": "stdout",
          "output_type": "stream",
          "text": [
            "tensor(0.8514, device='cuda:0')\n"
          ]
        },
        {
          "name": "stderr",
          "output_type": "stream",
          "text": [
            " 72%|███████▏  | 36/50 [00:00<00:00, 39.07it/s]"
          ]
        },
        {
          "name": "stdout",
          "output_type": "stream",
          "text": [
            "tensor(0.7964, device='cuda:0')\n",
            "tensor(0.7992, device='cuda:0')\n",
            "tensor(0.7614, device='cuda:0')\n",
            "tensor(0.7916, device='cuda:0')\n",
            "tensor(0.9052, device='cuda:0')\n",
            "tensor(0.4572, device='cuda:0')\n",
            "tensor(0.5738, device='cuda:0')\n"
          ]
        },
        {
          "name": "stderr",
          "output_type": "stream",
          "text": [
            " 80%|████████  | 40/50 [00:01<00:00, 38.91it/s]"
          ]
        },
        {
          "name": "stdout",
          "output_type": "stream",
          "text": [
            "tensor(0.4956, device='cuda:0')\n"
          ]
        },
        {
          "name": "stderr",
          "output_type": "stream",
          "text": [
            " 88%|████████▊ | 44/50 [00:01<00:00, 38.98it/s]"
          ]
        },
        {
          "name": "stdout",
          "output_type": "stream",
          "text": [
            "tensor(0.8133, device='cuda:0')\n",
            "tensor(0.8176, device='cuda:0')\n",
            "tensor(0.8479, device='cuda:0')\n",
            "tensor(0.9124, device='cuda:0')\n",
            "tensor(0.8528, device='cuda:0')\n",
            "tensor(0.9204, device='cuda:0')\n",
            "tensor(0.7747, device='cuda:0')\n"
          ]
        },
        {
          "name": "stderr",
          "output_type": "stream",
          "text": [
            " 96%|█████████▌| 48/50 [00:01<00:00, 39.13it/s]"
          ]
        },
        {
          "name": "stdout",
          "output_type": "stream",
          "text": [
            "tensor(0.9189, device='cuda:0')\n"
          ]
        },
        {
          "name": "stderr",
          "output_type": "stream",
          "text": [
            "100%|██████████| 50/50 [00:01<00:00, 39.08it/s]\n"
          ]
        },
        {
          "name": "stdout",
          "output_type": "stream",
          "text": [
            "tensor(0.9351, device='cuda:0')\n",
            "tensor(0.9184, device='cuda:0')\n",
            "Mean IoU: 0.7318\n",
            "Valid loss improved from 0.0574 to 0.0484. Saving checkpoint: ./best.pth\n",
            "\tTrain Loss: 0.045\n",
            "\t Val. Loss: 0.048\n",
            "\n"
          ]
        },
        {
          "data": {
            "image/png": "[encoded data removed]",
            "text/plain": [
              "<Figure size 640x480 with 1 Axes>"
            ]
          },
          "metadata": {},
          "output_type": "display_data"
        },
        {
          "name": "stdout",
          "output_type": "stream",
          "text": [
            "Epoch: 16\n",
            "Train...\n"
          ]
        },
        {
          "name": "stderr",
          "output_type": "stream",
          "text": [
            "100%|██████████| 125/125 [00:09<00:00, 13.09it/s]\n"
          ]
        },
        {
          "name": "stdout",
          "output_type": "stream",
          "text": [
            "Valid...\n"
          ]
        },
        {
          "name": "stderr",
          "output_type": "stream",
          "text": [
            "  8%|▊         | 4/50 [00:00<00:01, 39.58it/s]"
          ]
        },
        {
          "name": "stdout",
          "output_type": "stream",
          "text": [
            "tensor(0.7977, device='cuda:0')\n",
            "tensor(0.7791, device='cuda:0')\n",
            "tensor(0.7286, device='cuda:0')\n",
            "tensor(0.7849, device='cuda:0')\n",
            "tensor(0.6336, device='cuda:0')\n",
            "tensor(0.7127, device='cuda:0')\n",
            "tensor(0.7893, device='cuda:0')\n"
          ]
        },
        {
          "name": "stderr",
          "output_type": "stream",
          "text": [
            " 16%|█▌        | 8/50 [00:00<00:01, 39.23it/s]"
          ]
        },
        {
          "name": "stdout",
          "output_type": "stream",
          "text": [
            "tensor(0.5803, device='cuda:0')\n"
          ]
        },
        {
          "name": "stderr",
          "output_type": "stream",
          "text": [
            " 24%|██▍       | 12/50 [00:00<00:00, 39.14it/s]"
          ]
        },
        {
          "name": "stdout",
          "output_type": "stream",
          "text": [
            "tensor(0.7308, device='cuda:0')\n",
            "tensor(0.6868, device='cuda:0')\n",
            "tensor(0.7094, device='cuda:0')\n",
            "tensor(0.5194, device='cuda:0')\n",
            "tensor(0.4234, device='cuda:0')\n",
            "tensor(0.3624, device='cuda:0')\n",
            "tensor(0.4132, device='cuda:0')\n"
          ]
        },
        {
          "name": "stderr",
          "output_type": "stream",
          "text": [
            " 32%|███▏      | 16/50 [00:00<00:00, 38.95it/s]"
          ]
        },
        {
          "name": "stdout",
          "output_type": "stream",
          "text": [
            "tensor(0.4709, device='cuda:0')\n"
          ]
        },
        {
          "name": "stderr",
          "output_type": "stream",
          "text": [
            " 40%|████      | 20/50 [00:00<00:00, 38.86it/s]"
          ]
        },
        {
          "name": "stdout",
          "output_type": "stream",
          "text": [
            "tensor(0.7280, device='cuda:0')\n",
            "tensor(0.7588, device='cuda:0')\n",
            "tensor(0.6262, device='cuda:0')\n",
            "tensor(0.5850, device='cuda:0')\n",
            "tensor(0.8729, device='cuda:0')\n",
            "tensor(0.9137, device='cuda:0')\n",
            "tensor(0.6858, device='cuda:0')\n"
          ]
        },
        {
          "name": "stderr",
          "output_type": "stream",
          "text": [
            " 48%|████▊     | 24/50 [00:00<00:00, 38.92it/s]"
          ]
        },
        {
          "name": "stdout",
          "output_type": "stream",
          "text": [
            "tensor(0.5755, device='cuda:0')\n"
          ]
        },
        {
          "name": "stderr",
          "output_type": "stream",
          "text": [
            " 56%|█████▌    | 28/50 [00:00<00:00, 39.10it/s]"
          ]
        },
        {
          "name": "stdout",
          "output_type": "stream",
          "text": [
            "tensor(0.6646, device='cuda:0')\n",
            "tensor(0.8812, device='cuda:0')\n",
            "tensor(0.8339, device='cuda:0')\n",
            "tensor(0.8815, device='cuda:0')\n",
            "tensor(0.8745, device='cuda:0')\n",
            "tensor(0.6747, device='cuda:0')\n",
            "tensor(0.7779, device='cuda:0')\n"
          ]
        },
        {
          "name": "stderr",
          "output_type": "stream",
          "text": [
            " 64%|██████▍   | 32/50 [00:00<00:00, 39.15it/s]"
          ]
        },
        {
          "name": "stdout",
          "output_type": "stream",
          "text": [
            "tensor(0.8504, device='cuda:0')\n"
          ]
        },
        {
          "name": "stderr",
          "output_type": "stream",
          "text": [
            " 72%|███████▏  | 36/50 [00:00<00:00, 39.24it/s]"
          ]
        },
        {
          "name": "stdout",
          "output_type": "stream",
          "text": [
            "tensor(0.7951, device='cuda:0')\n",
            "tensor(0.8063, device='cuda:0')\n",
            "tensor(0.7610, device='cuda:0')\n",
            "tensor(0.7910, device='cuda:0')\n",
            "tensor(0.9049, device='cuda:0')\n",
            "tensor(0.4565, device='cuda:0')\n",
            "tensor(0.5781, device='cuda:0')\n"
          ]
        },
        {
          "name": "stderr",
          "output_type": "stream",
          "text": [
            " 80%|████████  | 40/50 [00:01<00:00, 39.09it/s]"
          ]
        },
        {
          "name": "stdout",
          "output_type": "stream",
          "text": [
            "tensor(0.4954, device='cuda:0')\n"
          ]
        },
        {
          "name": "stderr",
          "output_type": "stream",
          "text": [
            " 88%|████████▊ | 44/50 [00:01<00:00, 39.08it/s]"
          ]
        },
        {
          "name": "stdout",
          "output_type": "stream",
          "text": [
            "tensor(0.8164, device='cuda:0')\n",
            "tensor(0.8165, device='cuda:0')\n",
            "tensor(0.8473, device='cuda:0')\n",
            "tensor(0.9130, device='cuda:0')\n",
            "tensor(0.8540, device='cuda:0')\n",
            "tensor(0.9204, device='cuda:0')\n",
            "tensor(0.8109, device='cuda:0')\n"
          ]
        },
        {
          "name": "stderr",
          "output_type": "stream",
          "text": [
            " 96%|█████████▌| 48/50 [00:01<00:00, 39.12it/s]"
          ]
        },
        {
          "name": "stdout",
          "output_type": "stream",
          "text": [
            "tensor(0.9066, device='cuda:0')\n"
          ]
        },
        {
          "name": "stderr",
          "output_type": "stream",
          "text": [
            "100%|██████████| 50/50 [00:01<00:00, 39.14it/s]\n"
          ]
        },
        {
          "name": "stdout",
          "output_type": "stream",
          "text": [
            "tensor(0.9354, device='cuda:0')\n",
            "tensor(0.9187, device='cuda:0')\n",
            "Mean IoU: 0.7327\n",
            "Valid loss improved from 0.0484 to 0.0475. Saving checkpoint: ./best.pth\n",
            "\tTrain Loss: 0.035\n",
            "\t Val. Loss: 0.047\n",
            "\n"
          ]
        },
        {
          "data": {
            "image/png": "[encoded data removed]",
            "text/plain": [
              "<Figure size 640x480 with 1 Axes>"
            ]
          },
          "metadata": {},
          "output_type": "display_data"
        },
        {
          "name": "stdout",
          "output_type": "stream",
          "text": [
            "Epoch: 17\n",
            "Train...\n"
          ]
        },
        {
          "name": "stderr",
          "output_type": "stream",
          "text": [
            " 83%|████████▎ | 104/125 [00:07<00:01, 13.06it/s]\n"
          ]
        },
        {
          "ename": "KeyboardInterrupt",
          "evalue": "",
          "output_type": "error",
          "traceback": [
            "\u001b[0;31m---------------------------------------------------------------------------\u001b[0m",
            "\u001b[0;31mKeyboardInterrupt\u001b[0m                         Traceback (most recent call last)",
            "\u001b[0;32m/tmp/ipykernel_53660/2681743547.py\u001b[0m in \u001b[0;36m<module>\u001b[0;34m\u001b[0m\n\u001b[1;32m    121\u001b[0m     \u001b[0;32mfor\u001b[0m \u001b[0mepoch\u001b[0m \u001b[0;32min\u001b[0m \u001b[0mrange\u001b[0m\u001b[0;34m(\u001b[0m\u001b[0mnum_epochs\u001b[0m\u001b[0;34m)\u001b[0m\u001b[0;34m:\u001b[0m\u001b[0;34m\u001b[0m\u001b[0;34m\u001b[0m\u001b[0m\n\u001b[1;32m    122\u001b[0m         \u001b[0mprint\u001b[0m\u001b[0;34m(\u001b[0m\u001b[0;34m\"Epoch:\"\u001b[0m\u001b[0;34m,\u001b[0m \u001b[0mepoch\u001b[0m\u001b[0;34m+\u001b[0m\u001b[0;36m1\u001b[0m\u001b[0;34m)\u001b[0m\u001b[0;34m\u001b[0m\u001b[0;34m\u001b[0m\u001b[0m\n\u001b[0;32m--> 123\u001b[0;31m         \u001b[0mtrain_loss\u001b[0m \u001b[0;34m=\u001b[0m \u001b[0mtrain\u001b[0m\u001b[0;34m(\u001b[0m\u001b[0mmodel\u001b[0m\u001b[0;34m,\u001b[0m \u001b[0mtrain_loader\u001b[0m\u001b[0;34m,\u001b[0m \u001b[0moptimizer\u001b[0m\u001b[0;34m,\u001b[0m \u001b[0mloss_fn\u001b[0m\u001b[0;34m,\u001b[0m \u001b[0mdevice\u001b[0m\u001b[0;34m)\u001b[0m\u001b[0;34m\u001b[0m\u001b[0;34m\u001b[0m\u001b[0m\n\u001b[0m\u001b[1;32m    124\u001b[0m         \u001b[0mvalid_loss\u001b[0m \u001b[0;34m=\u001b[0m \u001b[0mevaluate\u001b[0m\u001b[0;34m(\u001b[0m\u001b[0mmodel\u001b[0m\u001b[0;34m,\u001b[0m \u001b[0mvalid_loader\u001b[0m\u001b[0;34m,\u001b[0m \u001b[0mloss_fn\u001b[0m\u001b[0;34m,\u001b[0m \u001b[0mdevice\u001b[0m\u001b[0;34m)\u001b[0m\u001b[0;34m\u001b[0m\u001b[0;34m\u001b[0m\u001b[0m\n\u001b[1;32m    125\u001b[0m \u001b[0;34m\u001b[0m\u001b[0m\n",
            "\u001b[0;32m/tmp/ipykernel_53660/2681743547.py\u001b[0m in \u001b[0;36mtrain\u001b[0;34m(model, loader, optimizer, loss_fn, device)\u001b[0m\n\u001b[1;32m     16\u001b[0m \u001b[0;34m\u001b[0m\u001b[0m\n\u001b[1;32m     17\u001b[0m     \u001b[0mmodel\u001b[0m\u001b[0;34m.\u001b[0m\u001b[0mtrain\u001b[0m\u001b[0;34m(\u001b[0m\u001b[0;34m)\u001b[0m\u001b[0;34m\u001b[0m\u001b[0;34m\u001b[0m\u001b[0m\n\u001b[0;32m---> 18\u001b[0;31m     \u001b[0;32mfor\u001b[0m \u001b[0mx\u001b[0m\u001b[0;34m,\u001b[0m \u001b[0my\u001b[0m \u001b[0;32min\u001b[0m \u001b[0mtqdm\u001b[0m\u001b[0;34m(\u001b[0m\u001b[0mloader\u001b[0m\u001b[0;34m)\u001b[0m\u001b[0;34m:\u001b[0m\u001b[0;34m\u001b[0m\u001b[0;34m\u001b[0m\u001b[0m\n\u001b[0m\u001b[1;32m     19\u001b[0m         \u001b[0mx\u001b[0m \u001b[0;34m=\u001b[0m \u001b[0mx\u001b[0m\u001b[0;34m.\u001b[0m\u001b[0mto\u001b[0m\u001b[0;34m(\u001b[0m\u001b[0mdevice\u001b[0m\u001b[0;34m,\u001b[0m \u001b[0mdtype\u001b[0m\u001b[0;34m=\u001b[0m\u001b[0mtorch\u001b[0m\u001b[0;34m.\u001b[0m\u001b[0mfloat32\u001b[0m\u001b[0;34m)\u001b[0m\u001b[0;34m\u001b[0m\u001b[0;34m\u001b[0m\u001b[0m\n\u001b[1;32m     20\u001b[0m         \u001b[0my\u001b[0m \u001b[0;34m=\u001b[0m \u001b[0my\u001b[0m\u001b[0;34m.\u001b[0m\u001b[0mto\u001b[0m\u001b[0;34m(\u001b[0m\u001b[0mdevice\u001b[0m\u001b[0;34m,\u001b[0m \u001b[0mdtype\u001b[0m\u001b[0;34m=\u001b[0m\u001b[0mtorch\u001b[0m\u001b[0;34m.\u001b[0m\u001b[0mfloat32\u001b[0m\u001b[0;34m)\u001b[0m\u001b[0;34m\u001b[0m\u001b[0;34m\u001b[0m\u001b[0m\n",
            "\u001b[0;32m~/AIChallenge/anaconda3/envs/cds/lib/python3.7/site-packages/tqdm/std.py\u001b[0m in \u001b[0;36m__iter__\u001b[0;34m(self)\u001b[0m\n\u001b[1;32m   1193\u001b[0m \u001b[0;34m\u001b[0m\u001b[0m\n\u001b[1;32m   1194\u001b[0m         \u001b[0;32mtry\u001b[0m\u001b[0;34m:\u001b[0m\u001b[0;34m\u001b[0m\u001b[0;34m\u001b[0m\u001b[0m\n\u001b[0;32m-> 1195\u001b[0;31m             \u001b[0;32mfor\u001b[0m \u001b[0mobj\u001b[0m \u001b[0;32min\u001b[0m \u001b[0miterable\u001b[0m\u001b[0;34m:\u001b[0m\u001b[0;34m\u001b[0m\u001b[0;34m\u001b[0m\u001b[0m\n\u001b[0m\u001b[1;32m   1196\u001b[0m                 \u001b[0;32myield\u001b[0m \u001b[0mobj\u001b[0m\u001b[0;34m\u001b[0m\u001b[0;34m\u001b[0m\u001b[0m\n\u001b[1;32m   1197\u001b[0m                 \u001b[0;31m# Update and possibly print the progressbar.\u001b[0m\u001b[0;34m\u001b[0m\u001b[0;34m\u001b[0m\u001b[0;34m\u001b[0m\u001b[0m\n",
            "\u001b[0;32m~/AIChallenge/anaconda3/envs/cds/lib/python3.7/site-packages/torch/utils/data/dataloader.py\u001b[0m in \u001b[0;36m__next__\u001b[0;34m(self)\u001b[0m\n\u001b[1;32m    528\u001b[0m             \u001b[0;32mif\u001b[0m \u001b[0mself\u001b[0m\u001b[0;34m.\u001b[0m\u001b[0m_sampler_iter\u001b[0m \u001b[0;32mis\u001b[0m \u001b[0;32mNone\u001b[0m\u001b[0;34m:\u001b[0m\u001b[0;34m\u001b[0m\u001b[0;34m\u001b[0m\u001b[0m\n\u001b[1;32m    529\u001b[0m                 \u001b[0mself\u001b[0m\u001b[0;34m.\u001b[0m\u001b[0m_reset\u001b[0m\u001b[0;34m(\u001b[0m\u001b[0;34m)\u001b[0m\u001b[0;34m\u001b[0m\u001b[0;34m\u001b[0m\u001b[0m\n\u001b[0;32m--> 530\u001b[0;31m             \u001b[0mdata\u001b[0m \u001b[0;34m=\u001b[0m \u001b[0mself\u001b[0m\u001b[0;34m.\u001b[0m\u001b[0m_next_data\u001b[0m\u001b[0;34m(\u001b[0m\u001b[0;34m)\u001b[0m\u001b[0;34m\u001b[0m\u001b[0;34m\u001b[0m\u001b[0m\n\u001b[0m\u001b[1;32m    531\u001b[0m             \u001b[0mself\u001b[0m\u001b[0;34m.\u001b[0m\u001b[0m_num_yielded\u001b[0m \u001b[0;34m+=\u001b[0m \u001b[0;36m1\u001b[0m\u001b[0;34m\u001b[0m\u001b[0;34m\u001b[0m\u001b[0m\n\u001b[1;32m    532\u001b[0m             \u001b[0;32mif\u001b[0m \u001b[0mself\u001b[0m\u001b[0;34m.\u001b[0m\u001b[0m_dataset_kind\u001b[0m \u001b[0;34m==\u001b[0m \u001b[0m_DatasetKind\u001b[0m\u001b[0;34m.\u001b[0m\u001b[0mIterable\u001b[0m \u001b[0;32mand\u001b[0m\u001b[0;31m \u001b[0m\u001b[0;31m\\\u001b[0m\u001b[0;34m\u001b[0m\u001b[0;34m\u001b[0m\u001b[0m\n",
            "\u001b[0;32m~/AIChallenge/anaconda3/envs/cds/lib/python3.7/site-packages/torch/utils/data/dataloader.py\u001b[0m in \u001b[0;36m_next_data\u001b[0;34m(self)\u001b[0m\n\u001b[1;32m    568\u001b[0m     \u001b[0;32mdef\u001b[0m \u001b[0m_next_data\u001b[0m\u001b[0;34m(\u001b[0m\u001b[0mself\u001b[0m\u001b[0;34m)\u001b[0m\u001b[0;34m:\u001b[0m\u001b[0;34m\u001b[0m\u001b[0;34m\u001b[0m\u001b[0m\n\u001b[1;32m    569\u001b[0m         \u001b[0mindex\u001b[0m \u001b[0;34m=\u001b[0m \u001b[0mself\u001b[0m\u001b[0;34m.\u001b[0m\u001b[0m_next_index\u001b[0m\u001b[0;34m(\u001b[0m\u001b[0;34m)\u001b[0m  \u001b[0;31m# may raise StopIteration\u001b[0m\u001b[0;34m\u001b[0m\u001b[0;34m\u001b[0m\u001b[0m\n\u001b[0;32m--> 570\u001b[0;31m         \u001b[0mdata\u001b[0m \u001b[0;34m=\u001b[0m \u001b[0mself\u001b[0m\u001b[0;34m.\u001b[0m\u001b[0m_dataset_fetcher\u001b[0m\u001b[0;34m.\u001b[0m\u001b[0mfetch\u001b[0m\u001b[0;34m(\u001b[0m\u001b[0mindex\u001b[0m\u001b[0;34m)\u001b[0m  \u001b[0;31m# may raise StopIteration\u001b[0m\u001b[0;34m\u001b[0m\u001b[0;34m\u001b[0m\u001b[0m\n\u001b[0m\u001b[1;32m    571\u001b[0m         \u001b[0;32mif\u001b[0m \u001b[0mself\u001b[0m\u001b[0;34m.\u001b[0m\u001b[0m_pin_memory\u001b[0m\u001b[0;34m:\u001b[0m\u001b[0;34m\u001b[0m\u001b[0;34m\u001b[0m\u001b[0m\n\u001b[1;32m    572\u001b[0m             \u001b[0mdata\u001b[0m \u001b[0;34m=\u001b[0m \u001b[0m_utils\u001b[0m\u001b[0;34m.\u001b[0m\u001b[0mpin_memory\u001b[0m\u001b[0;34m.\u001b[0m\u001b[0mpin_memory\u001b[0m\u001b[0;34m(\u001b[0m\u001b[0mdata\u001b[0m\u001b[0;34m)\u001b[0m\u001b[0;34m\u001b[0m\u001b[0;34m\u001b[0m\u001b[0m\n",
            "\u001b[0;32m~/AIChallenge/anaconda3/envs/cds/lib/python3.7/site-packages/torch/utils/data/_utils/fetch.py\u001b[0m in \u001b[0;36mfetch\u001b[0;34m(self, possibly_batched_index)\u001b[0m\n\u001b[1;32m     47\u001b[0m     \u001b[0;32mdef\u001b[0m \u001b[0mfetch\u001b[0m\u001b[0;34m(\u001b[0m\u001b[0mself\u001b[0m\u001b[0;34m,\u001b[0m \u001b[0mpossibly_batched_index\u001b[0m\u001b[0;34m)\u001b[0m\u001b[0;34m:\u001b[0m\u001b[0;34m\u001b[0m\u001b[0;34m\u001b[0m\u001b[0m\n\u001b[1;32m     48\u001b[0m         \u001b[0;32mif\u001b[0m \u001b[0mself\u001b[0m\u001b[0;34m.\u001b[0m\u001b[0mauto_collation\u001b[0m\u001b[0;34m:\u001b[0m\u001b[0;34m\u001b[0m\u001b[0;34m\u001b[0m\u001b[0m\n\u001b[0;32m---> 49\u001b[0;31m             \u001b[0mdata\u001b[0m \u001b[0;34m=\u001b[0m \u001b[0;34m[\u001b[0m\u001b[0mself\u001b[0m\u001b[0;34m.\u001b[0m\u001b[0mdataset\u001b[0m\u001b[0;34m[\u001b[0m\u001b[0midx\u001b[0m\u001b[0;34m]\u001b[0m \u001b[0;32mfor\u001b[0m \u001b[0midx\u001b[0m \u001b[0;32min\u001b[0m \u001b[0mpossibly_batched_index\u001b[0m\u001b[0;34m]\u001b[0m\u001b[0;34m\u001b[0m\u001b[0;34m\u001b[0m\u001b[0m\n\u001b[0m\u001b[1;32m     50\u001b[0m         \u001b[0;32melse\u001b[0m\u001b[0;34m:\u001b[0m\u001b[0;34m\u001b[0m\u001b[0;34m\u001b[0m\u001b[0m\n\u001b[1;32m     51\u001b[0m             \u001b[0mdata\u001b[0m \u001b[0;34m=\u001b[0m \u001b[0mself\u001b[0m\u001b[0;34m.\u001b[0m\u001b[0mdataset\u001b[0m\u001b[0;34m[\u001b[0m\u001b[0mpossibly_batched_index\u001b[0m\u001b[0;34m]\u001b[0m\u001b[0;34m\u001b[0m\u001b[0;34m\u001b[0m\u001b[0m\n",
            "\u001b[0;32m~/AIChallenge/anaconda3/envs/cds/lib/python3.7/site-packages/torch/utils/data/_utils/fetch.py\u001b[0m in \u001b[0;36m<listcomp>\u001b[0;34m(.0)\u001b[0m\n\u001b[1;32m     47\u001b[0m     \u001b[0;32mdef\u001b[0m \u001b[0mfetch\u001b[0m\u001b[0;34m(\u001b[0m\u001b[0mself\u001b[0m\u001b[0;34m,\u001b[0m \u001b[0mpossibly_batched_index\u001b[0m\u001b[0;34m)\u001b[0m\u001b[0;34m:\u001b[0m\u001b[0;34m\u001b[0m\u001b[0;34m\u001b[0m\u001b[0m\n\u001b[1;32m     48\u001b[0m         \u001b[0;32mif\u001b[0m \u001b[0mself\u001b[0m\u001b[0;34m.\u001b[0m\u001b[0mauto_collation\u001b[0m\u001b[0;34m:\u001b[0m\u001b[0;34m\u001b[0m\u001b[0;34m\u001b[0m\u001b[0m\n\u001b[0;32m---> 49\u001b[0;31m             \u001b[0mdata\u001b[0m \u001b[0;34m=\u001b[0m \u001b[0;34m[\u001b[0m\u001b[0mself\u001b[0m\u001b[0;34m.\u001b[0m\u001b[0mdataset\u001b[0m\u001b[0;34m[\u001b[0m\u001b[0midx\u001b[0m\u001b[0;34m]\u001b[0m \u001b[0;32mfor\u001b[0m \u001b[0midx\u001b[0m \u001b[0;32min\u001b[0m \u001b[0mpossibly_batched_index\u001b[0m\u001b[0;34m]\u001b[0m\u001b[0;34m\u001b[0m\u001b[0;34m\u001b[0m\u001b[0m\n\u001b[0m\u001b[1;32m     50\u001b[0m         \u001b[0;32melse\u001b[0m\u001b[0;34m:\u001b[0m\u001b[0;34m\u001b[0m\u001b[0;34m\u001b[0m\u001b[0m\n\u001b[1;32m     51\u001b[0m             \u001b[0mdata\u001b[0m \u001b[0;34m=\u001b[0m \u001b[0mself\u001b[0m\u001b[0;34m.\u001b[0m\u001b[0mdataset\u001b[0m\u001b[0;34m[\u001b[0m\u001b[0mpossibly_batched_index\u001b[0m\u001b[0;34m]\u001b[0m\u001b[0;34m\u001b[0m\u001b[0;34m\u001b[0m\u001b[0m\n",
            "\u001b[0;32m/tmp/ipykernel_53660/1186227418.py\u001b[0m in \u001b[0;36m__getitem__\u001b[0;34m(self, index)\u001b[0m\n\u001b[1;32m     34\u001b[0m     \u001b[0;32mdef\u001b[0m \u001b[0m__getitem__\u001b[0m\u001b[0;34m(\u001b[0m\u001b[0mself\u001b[0m\u001b[0;34m,\u001b[0m \u001b[0mindex\u001b[0m\u001b[0;34m)\u001b[0m\u001b[0;34m:\u001b[0m\u001b[0;34m\u001b[0m\u001b[0;34m\u001b[0m\u001b[0m\n\u001b[1;32m     35\u001b[0m         \u001b[0;34m\"\"\" Reading image \"\"\"\u001b[0m\u001b[0;34m\u001b[0m\u001b[0;34m\u001b[0m\u001b[0m\n\u001b[0;32m---> 36\u001b[0;31m         \u001b[0mimage\u001b[0m \u001b[0;34m=\u001b[0m \u001b[0mcv2\u001b[0m\u001b[0;34m.\u001b[0m\u001b[0mimread\u001b[0m\u001b[0;34m(\u001b[0m\u001b[0mself\u001b[0m\u001b[0;34m.\u001b[0m\u001b[0mimages_path\u001b[0m\u001b[0;34m[\u001b[0m\u001b[0mindex\u001b[0m\u001b[0;34m]\u001b[0m\u001b[0;34m)\u001b[0m\u001b[0;34m\u001b[0m\u001b[0;34m\u001b[0m\u001b[0m\n\u001b[0m\u001b[1;32m     37\u001b[0m         \u001b[0mimage\u001b[0m \u001b[0;34m=\u001b[0m \u001b[0mcv2\u001b[0m\u001b[0;34m.\u001b[0m\u001b[0mresize\u001b[0m\u001b[0;34m(\u001b[0m\u001b[0mimage\u001b[0m\u001b[0;34m,\u001b[0m \u001b[0;34m(\u001b[0m\u001b[0mself\u001b[0m\u001b[0;34m.\u001b[0m\u001b[0mwidth\u001b[0m\u001b[0;34m,\u001b[0m \u001b[0mself\u001b[0m\u001b[0;34m.\u001b[0m\u001b[0mheight\u001b[0m\u001b[0;34m)\u001b[0m\u001b[0;34m,\u001b[0m \u001b[0minterpolation\u001b[0m \u001b[0;34m=\u001b[0m \u001b[0mcv2\u001b[0m\u001b[0;34m.\u001b[0m\u001b[0mINTER_LINEAR\u001b[0m\u001b[0;34m)\u001b[0m\u001b[0;34m\u001b[0m\u001b[0;34m\u001b[0m\u001b[0m\n\u001b[1;32m     38\u001b[0m         \u001b[0maugment_hsv\u001b[0m\u001b[0;34m(\u001b[0m\u001b[0mimage\u001b[0m\u001b[0;34m)\u001b[0m\u001b[0;34m\u001b[0m\u001b[0;34m\u001b[0m\u001b[0m\n",
            "\u001b[0;31mKeyboardInterrupt\u001b[0m: "
          ]
        }
      ],
      "source": [
        "\n",
        "import os\n",
        "import time\n",
        "import numpy as np\n",
        "from glob import glob\n",
        "from PIL import Image\n",
        "\n",
        "import torch\n",
        "from torch.utils.data import DataLoader\n",
        "import torch.nn as nn\n",
        "import tqdm\n",
        "\n",
        "def train(model, loader, optimizer, loss_fn, device):\n",
        "    print(\"Train...\")\n",
        "    epoch_loss = 0.0\n",
        "\n",
        "    \n",
        "    model.train()\n",
        "    for x, y in tqdm(loader):\n",
        "        x = x.to(device, dtype=torch.float32)\n",
        "        y = y.to(device, dtype=torch.float32)\n",
        "\n",
        "        optimizer.zero_grad()\n",
        "        y_pred = model(x)\n",
        "        loss = loss_fn(y_pred, y)\n",
        "        loss.backward()\n",
        "        optimizer.step()\n",
        "        epoch_loss += loss.item()\n",
        "\n",
        "    epoch_loss = epoch_loss/len(loader)\n",
        "    return epoch_loss\n",
        "\n",
        "def evaluate(model, loader, loss_fn, device, threshold = 0.6):\n",
        "    print(\"Valid...\")\n",
        "    epoch_loss = 0.0\n",
        "\n",
        "    iou_arr = []\n",
        "    model.eval()\n",
        "    with torch.no_grad():\n",
        "        for x, y in tqdm(loader):\n",
        "            x = x.to(device, dtype=torch.float32)\n",
        "            y = y.to(device, dtype=torch.float32)\n",
        "            \n",
        "            y_pred = model(x)\n",
        "            loss = loss_fn(y_pred, y)\n",
        "            epoch_loss += loss.item()\n",
        "\n",
        "            iou = iou_pytorch(y_pred, y)\n",
        "\n",
        "            iou_arr.append(iou.cpu().numpy())\n",
        "        mean_iou = np.mean(iou_arr)\n",
        "        print('Mean IoU: {:.4f}'.format(mean_iou))\n",
        "        epoch_loss = epoch_loss/len(loader)\n",
        "        \n",
        "    return epoch_loss\n",
        "\n",
        "\n",
        "if __name__ == \"__main__\":\n",
        "    from tqdm import tqdm\n",
        "    import matplotlib.pyplot as plt\n",
        "    '''\n",
        "    Code Unet for ----------  2 CLASSES ----------\n",
        "    '''\n",
        "\n",
        "    seeding(1234)\n",
        "    \"\"\" Load dataset \"\"\"\n",
        "    # train_x = sorted(glob(\"đường dẫn tới thư mục ảnh tập train/*\")) # Lưu ý: Có dấu * phía cuối\n",
        "    # train_y = sorted(glob(\"đường dẫn tới thư mục label tập train/*\"))\n",
        "    # valid_x = sorted(glob(\"đường dẫn tới thư mục ảnh train của tập test/*\"))\n",
        "    # valid_y = sorted(glob(\"đường dẫn tới thư mục label của tập test/*\"))\n",
        "    train_x = sorted(glob(\"dataset_full/dataset_full/train/*\"))[:500] # Lưu ý: Có dấu * phía cuối\n",
        "    train_y = sorted(glob(\"dataset_full/dataset_full/trainanot_full/*\"))[:500]\n",
        "    valid_x = sorted(glob(\"dataset_full/dataset_full/val/*\"))[:200]\n",
        "    valid_y = sorted(glob(\"dataset_full/dataset_full/valanot_full/*\"))[:200]\n",
        "    \n",
        "    data_str = f\"Dataset Size:\\nTrain: {len(train_x)} - Valid: {len(valid_x)}\\n\"\n",
        "    print(data_str)\n",
        "\n",
        "    \"\"\" Hyperparameters \"\"\"\n",
        "    H = 80\n",
        "    W = 160\n",
        "    size = (W, H)\n",
        "    batch_size = 4\n",
        "    num_epochs = 30\n",
        "    lr = 1e-4\n",
        "    checkpoint_path = \"./best.pth\"\n",
        "\n",
        "    \"\"\" Dataset and loader \"\"\"\n",
        "    train_dataset = DriveDataset(train_x, train_y, W, H)\n",
        "    valid_dataset = DriveDataset(valid_x, valid_y, W, H)\n",
        "\n",
        "\n",
        "    train_loader = DataLoader(\n",
        "        dataset=train_dataset,\n",
        "        batch_size=batch_size,\n",
        "        shuffle=True,\n",
        "        num_workers=0\n",
        "    )\n",
        "\n",
        "    valid_loader = DataLoader(\n",
        "        dataset=valid_dataset,\n",
        "        batch_size=batch_size,\n",
        "        shuffle=False,\n",
        "        num_workers=0\n",
        "    )\n",
        "\n",
        "    device = torch.device('cuda') \n",
        "    model = build_unet()\n",
        "    model = model.to(device)\n",
        "\n",
        "    torch.backends.cudnn.benchmark = True # new\n",
        "    optimizer = torch.optim.Adam(model.parameters(), lr=lr)\n",
        "    scheduler = torch.optim.lr_scheduler.ReduceLROnPlateau(optimizer, 'min', patience=5, verbose=True)\n",
        "    loss_fn = DiceBCELoss()\n",
        "\n",
        "    \"\"\" Training the model \"\"\"\n",
        "    best_valid_loss = float(\"inf\")\n",
        "\n",
        "    loss_train_plt = []\n",
        "    loss_val_plt = []\n",
        "\n",
        "    for epoch in range(num_epochs):\n",
        "        print(\"Epoch:\", epoch+1)\n",
        "        train_loss = train(model, train_loader, optimizer, loss_fn, device)    \n",
        "        valid_loss = evaluate(model, valid_loader, loss_fn, device)\n",
        "        \n",
        "        \"\"\" Saving the model \"\"\"\n",
        "        if valid_loss < best_valid_loss:\n",
        "            print(f\"Valid loss improved from {best_valid_loss:2.4f} to {valid_loss:2.4f}. Saving checkpoint: {checkpoint_path}\")\n",
        "\n",
        "            best_valid_loss = valid_loss\n",
        "            name = os.path.join(os.getcwd(), \"output_\" + str(epoch) + \".pth\")\n",
        "            torch.save(model.state_dict(), name)\n",
        "\n",
        "        print(f'\\tTrain Loss: {train_loss:.3f}\\n\\t Val. Loss: {valid_loss:.3f}\\n')\n",
        "        \n",
        "        loss_train_plt.append(train_loss)\n",
        "        loss_val_plt.append(valid_loss)\n",
        "        plt.plot(loss_train_plt)\n",
        "        plt.plot(loss_val_plt)\n",
        "        plt.show(f\"loss_epoch_{epoch}.png\")  "
      ]
    },
    {
      "cell_type": "markdown",
      "metadata": {},
      "source": [
        "Test mô hình"
      ]
    },
    {
      "cell_type": "code",
      "execution_count": 118,
      "metadata": {},
      "outputs": [
        {
          "data": {
            "image/png": "[encoded data removed]",
            "text/plain": [
              "<Figure size 640x480 with 1 Axes>"
            ]
          },
          "metadata": {},
          "output_type": "display_data"
        },
        {
          "data": {
            "image/png": "[encoded data removed]",
            "text/plain": [
              "<Figure size 640x480 with 1 Axes>"
            ]
          },
          "metadata": {},
          "output_type": "display_data"
        }
      ],
      "source": [
        "import cv2\n",
        "import numpy as np\n",
        "import torch\n",
        "import time\n",
        "\n",
        "checkpoint_path = \"duong dan toi file .pth\"\n",
        "model = build_unet().cuda()\n",
        "model.load_state_dict(torch.load(checkpoint_path, map_location='cuda'))\n",
        "model.eval()\n",
        "\n",
        "# 159, 396\n",
        "img = cv2.imread(\"noise_lane.png\")\n",
        "img = cv2.cvtColor(img, cv2.COLOR_BGR2RGB)\n",
        "img = cv2.resize(img, (160, 80))\n",
        "\n",
        "x = torch.from_numpy(img).cuda()\n",
        "x = x.transpose(1, 2).transpose(0, 1)\n",
        "x = x / 255.0\n",
        "x = x.unsqueeze(0).float()\n",
        "with torch.no_grad():\n",
        "    pred = model(x)\n",
        "    pred = torch.sigmoid(pred)\n",
        "    pred = pred[0].squeeze()\n",
        "    pred = (pred > 0.5).cpu().numpy()\n",
        "\n",
        "    pred = np.array(pred, dtype=np.uint8)\n",
        "    pred = pred * 255\n",
        "\n",
        "\n",
        "# cv2.imwrite(\"pred.png\", cv2.resize(pred, (160, 80)))\n",
        "plt.imshow(img)\n",
        "plt.show()\n",
        "plt.imshow(pred)\n",
        "plt.show()\n"
      ]
    }
  ],
  "metadata": {
    "colab": {
      "collapsed_sections": [],
      "name": "train_UNET.ipynb",
      "provenance": []
    },
    "kernelspec": {
      "display_name": "Python 3.7.13 64-bit",
      "language": "python",
      "name": "python3"
    },
    "language_info": {
      "codemirror_mode": {
        "name": "ipython",
        "version": 3
      },
      "file_extension": ".py",
      "mimetype": "text/x-python",
      "name": "python",
      "nbconvert_exporter": "python",
      "pygments_lexer": "ipython3",
      "version": "3.7.13"
    },
    "vscode": {
      "interpreter": {
        "hash": "73c523093cbae0c105fb38fa2a1db48a36f5410ec75d18bf241c74e50d5ffc25"
      }
    }
  },
  "nbformat": 4,
  "nbformat_minor": 0
}
