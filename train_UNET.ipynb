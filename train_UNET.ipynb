{
  "cells": [
    {
      "cell_type": "markdown",
      "metadata": {},
      "source": [
        "Khởi tạo datasets"
      ]
    },
    {
      "cell_type": "code",
      "execution_count": 1,
      "metadata": {},
      "outputs": [
        {
          "name": "stderr",
          "output_type": "stream",
          "text": [
            "/data/hoangtv/data/AIChallenge/anaconda3/envs/cds/lib/python3.7/site-packages/tqdm/auto.py:22: TqdmWarning: IProgress not found. Please update jupyter and ipywidgets. See https://ipywidgets.readthedocs.io/en/stable/user_install.html\n",
            "  from .autonotebook import tqdm as notebook_tqdm\n"
          ]
        }
      ],
      "source": [
        "import os\n",
        "import numpy as np\n",
        "import cv2\n",
        "import torch\n",
        "from torch.utils.data import Dataset\n",
        "import random\n",
        "\n",
        "def augment_hsv(im, hgain= 0, sgain=0.5, vgain=0.5):\n",
        "    # HSV color-space augmentation\n",
        "    if hgain or sgain or vgain:\n",
        "        r = np.random.uniform(-1, 1, 3) * [hgain, sgain, vgain] + 1  # random gains\n",
        "        hue, sat, val = cv2.split(cv2.cvtColor(im, cv2.COLOR_BGR2HSV))\n",
        "        dtype = im.dtype  # uint8\n",
        "\n",
        "        x = np.arange(0, 256, dtype=r.dtype)\n",
        "        lut_hue = ((x * r[0]) % 180).astype(dtype)\n",
        "        lut_sat = np.clip(x * r[1], 0, 255).astype(dtype)\n",
        "        lut_val = np.clip(x * r[2], 0, 255).astype(dtype)\n",
        "\n",
        "        im_hsv = cv2.merge((cv2.LUT(hue, lut_hue), cv2.LUT(sat, lut_sat), cv2.LUT(val, lut_val)))\n",
        "        cv2.cvtColor(im_hsv, cv2.COLOR_HSV2BGR, dst=im)  # no return needed\n",
        "\n",
        "\n",
        "# Change cv2.resize to import data correctly\n",
        "\n",
        "class DriveDataset(Dataset):\n",
        "    def __init__(self, images_path, masks_path, width, height):\n",
        "\n",
        "        self.images_path = images_path\n",
        "        self.masks_path = masks_path\n",
        "        self.n_samples = len(images_path)\n",
        "        self.width, self.height = width, height\n",
        "\n",
        "    def __getitem__(self, index):\n",
        "        \"\"\" Reading image \"\"\"\n",
        "        image = cv2.imread(self.images_path[index])\n",
        "        image = cv2.resize(image, (self.width, self.height), interpolation = cv2.INTER_LINEAR)\n",
        "        augment_hsv(image)\n",
        "        image = cv2.cvtColor(image, cv2.COLOR_BGR2RGB)\n",
        "        image = image/255.0 ## (512, 512, 3)\n",
        "        \n",
        "        image = np.transpose(image, (2, 0, 1))  ## (3, 512, 512)\n",
        "        image = image.astype(np.float32)\n",
        "        image = torch.from_numpy(image)\n",
        "        \n",
        "        \n",
        "        \"\"\" Reading mask \"\"\"\n",
        "        mask = cv2.imread(self.masks_path[index], cv2.IMREAD_GRAYSCALE)\n",
        "        # mask = cv2.resize(mask, (self.width, self.height), interpolation=cv2.INTER_LINEAR)\n",
        "        # mask = mask/255.0   ## (512, 512)\n",
        "        mask = cv2.resize(mask, (160, 80), interpolation=cv2.INTER_LINEAR)\n",
        "        mask = np.expand_dims(mask, axis=0) ## (1, 512, 512)\n",
        "        \n",
        "        mask = np.where(mask != 0, 1.0, 0.0)\n",
        "        mask = mask.astype(np.float32)\n",
        "        mask = torch.from_numpy(mask)\n",
        "\n",
        "        return image, mask\n",
        "    def __len__(self):\n",
        "        return self.n_samples\n",
        "    \n",
        "\n",
        "\"\"\" Seeding the randomness. \"\"\"\n",
        "def seeding(seed):\n",
        "    random.seed(seed)\n",
        "    os.environ[\"PYTHONHASHSEED\"] = str(seed)\n",
        "    np.random.seed(seed)\n",
        "    torch.manual_seed(seed)\n",
        "    torch.cuda.manual_seed(seed)\n",
        "    torch.backends.cudnn.deterministic = True\n",
        "\n"
      ]
    },
    {
      "cell_type": "markdown",
      "metadata": {},
      "source": [
        "Khởi tạo hàm loss và hàm tính mIoU"
      ]
    },
    {
      "cell_type": "code",
      "execution_count": 5,
      "metadata": {},
      "outputs": [],
      "source": [
        "import os\n",
        "import numpy as np\n",
        "import cv2\n",
        "import torch\n",
        "import torch.nn as nn\n",
        "import torch.nn.functional as F\n",
        "\n",
        "\n",
        "\n",
        "class DiceBCELoss(nn.Module):\n",
        "    def __init__(self):\n",
        "        super(DiceBCELoss, self).__init__()\n",
        "\n",
        "    def forward(self, inputs, targets, smooth=1):\n",
        "\n",
        "        #comment out if your model contains a sigmoid or equivalent activation layer\n",
        "        inputs = torch.sigmoid(inputs)\n",
        "\n",
        "        #flatten label and prediction tensors\n",
        "        inputs = inputs.view(-1)\n",
        "        targets = targets.view(-1)\n",
        "\n",
        "        intersection = (inputs * targets).sum()\n",
        "        dice_loss = 1 - (2.*intersection + smooth)/(inputs.sum() + targets.sum() + smooth)\n",
        "        BCE = F.binary_cross_entropy(inputs, targets, reduction='mean')\n",
        "        Dice_BCE = BCE + dice_loss\n",
        "\n",
        "        return Dice_BCE\n",
        "    \n",
        "    \n",
        "\n",
        "SMOOTH = 1e-6\n",
        "\n",
        "def iou_pytorch(outputs: torch.Tensor, labels: torch.Tensor, threshold = 0.5):\n",
        "    # You can comment out this line if you are passing tensors of equal shape\n",
        "    # But if you are passing output from UNet or something it will most probably\n",
        "    # be with the BATCH x 1 x H x W shape\n",
        "\n",
        "    outputs = outputs.squeeze(1)  # BATCH x 1 x H x W => BATCH x H x W\n",
        "    outputs = torch.sigmoid(outputs)\n",
        "    outputs = (outputs> threshold)\n",
        "    outputs = outputs.to(dtype=torch.int8)\n",
        "\n",
        "    labels = labels.to(dtype=torch.int8)\n",
        "    # print(outputs)\n",
        "    intersection = (outputs & labels).float().sum((1, 2, 3))  # Will be zero if Truth=0 or Prediction=0\n",
        "    union = (outputs | labels).float().sum((1, 2, 3))         # Will be zzero if both are 0\n",
        "    \n",
        "    iou = (intersection + SMOOTH) / (union + SMOOTH)  # We smooth our devision to avoid 0/0\n",
        "    \n",
        "    thresholded = torch.clamp(20 * (iou - 0.5), 0, 10).ceil() / 10  # This is equal to comparing with thresolds\n",
        "    # print(sum(iou)/outputs.shape[0])\n",
        "    return sum(iou)/outputs.shape[0]  # Or thresholded.mean() if you are interested in average across the batch\n",
        "\n"
      ]
    },
    {
      "cell_type": "markdown",
      "metadata": {},
      "source": [
        "Khởi tạo mô hình Unet"
      ]
    },
    {
      "cell_type": "code",
      "execution_count": 3,
      "metadata": {},
      "outputs": [],
      "source": [
        "import torch\n",
        "import torch.nn as nn\n",
        "\n",
        "class conv_block(nn.Module):\n",
        "    def __init__(self, in_c, out_c):\n",
        "        super().__init__()\n",
        "\n",
        "        self.conv1 = nn.Conv2d(in_c, out_c, kernel_size=3, padding=1)\n",
        "        self.bn1 = nn.BatchNorm2d(out_c)\n",
        "\n",
        "        self.conv2 = nn.Conv2d(out_c, out_c, kernel_size=3, padding=1)\n",
        "        #self.conv2 = nn.Conv2d(out_c, out_c, kernel_size=3, padding=1, group=out_c)\n",
        "        self.bn2 = nn.BatchNorm2d(out_c)\n",
        "\n",
        "        self.relu = nn.ReLU()\n",
        "\n",
        "    def forward(self, inputs):\n",
        "        x = self.conv1(inputs)\n",
        "        x = self.bn1(x)\n",
        "        x = self.relu(x)\n",
        "\n",
        "        x = self.conv2(x)\n",
        "        x = self.bn2(x)\n",
        "        x = self.relu(x)\n",
        "\n",
        "        return x\n",
        "\n",
        "class encoder_block(nn.Module):\n",
        "    def __init__(self, in_c, out_c):\n",
        "        super().__init__()\n",
        "\n",
        "        self.conv = conv_block(in_c, out_c)\n",
        "        self.pool = nn.MaxPool2d((2, 2))\n",
        "\n",
        "    def forward(self, inputs):\n",
        "        x = self.conv(inputs)\n",
        "        p = self.pool(x)\n",
        "\n",
        "        return x, p\n",
        "\n",
        "class decoder_block(nn.Module):\n",
        "    def __init__(self, in_c, out_c):\n",
        "        super().__init__()\n",
        "\n",
        "        self.up = nn.ConvTranspose2d(in_c, out_c, kernel_size=2, stride=2, padding=0)\n",
        "        self.conv = conv_block(out_c+out_c, out_c)\n",
        "\n",
        "    def forward(self, inputs, skip):\n",
        "        x = self.up(inputs)\n",
        "        x = torch.cat([x, skip], axis=1)\n",
        "        x = self.conv(x)\n",
        "        return x\n",
        "\n",
        "class build_unet(nn.Module):\n",
        "    def __init__(self):\n",
        "        super().__init__()\n",
        "\n",
        "        \"\"\" Encoder \"\"\"\n",
        "        self.e1 = encoder_block(3, 64)\n",
        "        self.e2 = encoder_block(64, 128)\n",
        "        self.e3 = encoder_block(128, 256)\n",
        "        self.e4 = encoder_block(256, 512)\n",
        "\n",
        "        \"\"\" Bottleneck \"\"\"\n",
        "        self.b = conv_block(512, 1024)\n",
        "\n",
        "        \"\"\" Decoder \"\"\"\n",
        "        self.d1 = decoder_block(1024, 512)\n",
        "        self.d2 = decoder_block(512, 256)\n",
        "        self.d3 = decoder_block(256, 128)\n",
        "        self.d4 = decoder_block(128, 64)\n",
        "\n",
        "        \"\"\" Classifier \"\"\"\n",
        "        self.outputs = nn.Conv2d(64, 1, kernel_size=1, padding=0)\n",
        "\n",
        "    def forward(self, inputs):\n",
        "        \"\"\" Encoder \"\"\"\n",
        "        s1, p1 = self.e1(inputs)\n",
        "        s2, p2 = self.e2(p1)\n",
        "        s3, p3 = self.e3(p2)\n",
        "        s4, p4 = self.e4(p3)\n",
        "\n",
        "        \"\"\" Bottleneck \"\"\"\n",
        "        b = self.b(p4)\n",
        "\n",
        "        \"\"\" Decoder \"\"\"\n",
        "        d1 = self.d1(b, s4)\n",
        "        d2 = self.d2(d1, s3)\n",
        "        d3 = self.d3(d2, s2)\n",
        "        d4 = self.d4(d3, s1)\n",
        "\n",
        "        outputs = self.outputs(d4)\n",
        "\n",
        "        return outputs\n"
      ]
    },
    {
      "cell_type": "code",
      "execution_count": 6,
      "metadata": {},
      "outputs": [
        {
          "name": "stdout",
          "output_type": "stream",
          "text": [
            "Dataset Size:\n",
            "Train: 1000 - Valid: 200\n",
            "\n",
            "Epoch: 1\n",
            "Train...\n"
          ]
        },
        {
          "name": "stderr",
          "output_type": "stream",
          "text": [
            "100%|██████████| 250/250 [00:18<00:00, 13.62it/s]\n"
          ]
        },
        {
          "name": "stdout",
          "output_type": "stream",
          "text": [
            "Valid...\n"
          ]
        },
        {
          "name": "stderr",
          "output_type": "stream",
          "text": [
            " 10%|█         | 5/50 [00:00<00:01, 41.98it/s]"
          ]
        },
        {
          "name": "stdout",
          "output_type": "stream",
          "text": [
            "tensor(0.7956, device='cuda:0')\n",
            "tensor(0.7737, device='cuda:0')\n",
            "tensor(0.7256, device='cuda:0')\n",
            "tensor(0.7810, device='cuda:0')\n",
            "tensor(0.6311, device='cuda:0')\n",
            "tensor(0.7095, device='cuda:0')\n",
            "tensor(0.7828, device='cuda:0')\n",
            "tensor(0.5722, device='cuda:0')\n",
            "tensor(0.7232, device='cuda:0')\n"
          ]
        },
        {
          "name": "stderr",
          "output_type": "stream",
          "text": [
            " 30%|███       | 15/50 [00:00<00:00, 41.23it/s]"
          ]
        },
        {
          "name": "stdout",
          "output_type": "stream",
          "text": [
            "tensor(0.6763, device='cuda:0')\n",
            "tensor(0.7066, device='cuda:0')\n",
            "tensor(0.5120, device='cuda:0')\n",
            "tensor(0.4168, device='cuda:0')\n",
            "tensor(0.3529, device='cuda:0')\n",
            "tensor(0.3916, device='cuda:0')\n",
            "tensor(0.4539, device='cuda:0')\n",
            "tensor(0.7413, device='cuda:0')\n",
            "tensor(0.7554, device='cuda:0')\n"
          ]
        },
        {
          "name": "stderr",
          "output_type": "stream",
          "text": [
            " 50%|█████     | 25/50 [00:00<00:00, 41.15it/s]"
          ]
        },
        {
          "name": "stdout",
          "output_type": "stream",
          "text": [
            "tensor(0.6212, device='cuda:0')\n",
            "tensor(0.5803, device='cuda:0')\n",
            "tensor(0.8740, device='cuda:0')\n",
            "tensor(0.9123, device='cuda:0')\n",
            "tensor(0.6854, device='cuda:0')\n",
            "tensor(0.5742, device='cuda:0')\n",
            "tensor(0.6597, device='cuda:0')\n",
            "tensor(0.8808, device='cuda:0')\n",
            "tensor(0.8333, device='cuda:0')\n"
          ]
        },
        {
          "name": "stderr",
          "output_type": "stream",
          "text": [
            " 70%|███████   | 35/50 [00:00<00:00, 41.30it/s]"
          ]
        },
        {
          "name": "stdout",
          "output_type": "stream",
          "text": [
            "tensor(0.8696, device='cuda:0')\n",
            "tensor(0.8693, device='cuda:0')\n",
            "tensor(0.6682, device='cuda:0')\n",
            "tensor(0.7736, device='cuda:0')\n",
            "tensor(0.8478, device='cuda:0')\n",
            "tensor(0.7922, device='cuda:0')\n",
            "tensor(0.8030, device='cuda:0')\n",
            "tensor(0.7586, device='cuda:0')\n",
            "tensor(0.7922, device='cuda:0')\n"
          ]
        },
        {
          "name": "stderr",
          "output_type": "stream",
          "text": [
            " 80%|████████  | 40/50 [00:00<00:00, 41.25it/s]"
          ]
        },
        {
          "name": "stdout",
          "output_type": "stream",
          "text": [
            "tensor(0.8960, device='cuda:0')\n",
            "tensor(0.4592, device='cuda:0')\n",
            "tensor(0.5760, device='cuda:0')\n",
            "tensor(0.4936, device='cuda:0')\n",
            "tensor(0.8138, device='cuda:0')\n",
            "tensor(0.8128, device='cuda:0')\n",
            "tensor(0.8458, device='cuda:0')\n",
            "tensor(0.9101, device='cuda:0')\n"
          ]
        },
        {
          "name": "stderr",
          "output_type": "stream",
          "text": [
            " 90%|█████████ | 45/50 [00:01<00:00, 41.30it/s]"
          ]
        },
        {
          "name": "stdout",
          "output_type": "stream",
          "text": [
            "tensor(0.8544, device='cuda:0')\n"
          ]
        },
        {
          "name": "stderr",
          "output_type": "stream",
          "text": [
            "100%|██████████| 50/50 [00:01<00:00, 41.27it/s]"
          ]
        },
        {
          "name": "stdout",
          "output_type": "stream",
          "text": [
            "tensor(0.9108, device='cuda:0')\n",
            "tensor(0.7645, device='cuda:0')\n",
            "tensor(0.8977, device='cuda:0')\n",
            "tensor(0.9307, device='cuda:0')\n",
            "tensor(0.9144, device='cuda:0')\n",
            "Mean IoU: 0.7275\n",
            "Valid loss improved from inf to 0.2637. Saving checkpoint: ./best.pth\n"
          ]
        },
        {
          "name": "stderr",
          "output_type": "stream",
          "text": [
            "\n"
          ]
        },
        {
          "name": "stdout",
          "output_type": "stream",
          "text": [
            "\tTrain Loss: 0.415\n",
            "\t Val. Loss: 0.264\n",
            "\n"
          ]
        },
        {
          "data": {
            "image/png": "[encoded data removed]",
            "text/plain": [
              "<Figure size 640x480 with 1 Axes>"
            ]
          },
          "metadata": {},
          "output_type": "display_data"
        },
        {
          "name": "stdout",
          "output_type": "stream",
          "text": [
            "Epoch: 2\n",
            "Train...\n"
          ]
        },
        {
          "name": "stderr",
          "output_type": "stream",
          "text": [
            "100%|██████████| 250/250 [00:18<00:00, 13.48it/s]\n"
          ]
        },
        {
          "name": "stdout",
          "output_type": "stream",
          "text": [
            "Valid...\n"
          ]
        },
        {
          "name": "stderr",
          "output_type": "stream",
          "text": [
            "  6%|▌         | 3/50 [00:00<00:01, 26.34it/s]"
          ]
        },
        {
          "name": "stdout",
          "output_type": "stream",
          "text": [
            "tensor(0.7954, device='cuda:0')\n",
            "tensor(0.7761, device='cuda:0')\n",
            "tensor(0.7271, device='cuda:0')\n",
            "tensor(0.7818, device='cuda:0')\n",
            "tensor(0.6297, device='cuda:0')\n",
            "tensor(0.7105, device='cuda:0')\n"
          ]
        },
        {
          "name": "stderr",
          "output_type": "stream",
          "text": [
            " 14%|█▍        | 7/50 [00:00<00:01, 33.76it/s]"
          ]
        },
        {
          "name": "stdout",
          "output_type": "stream",
          "text": [
            "tensor(0.7864, device='cuda:0')\n",
            "tensor(0.5773, device='cuda:0')\n",
            "tensor(0.7281, device='cuda:0')\n"
          ]
        },
        {
          "name": "stderr",
          "output_type": "stream",
          "text": [
            " 24%|██▍       | 12/50 [00:00<00:01, 37.07it/s]"
          ]
        },
        {
          "name": "stdout",
          "output_type": "stream",
          "text": [
            "tensor(0.6826, device='cuda:0')\n",
            "tensor(0.7074, device='cuda:0')\n",
            "tensor(0.4946, device='cuda:0')\n",
            "tensor(0.4202, device='cuda:0')\n",
            "tensor(0.3540, device='cuda:0')\n",
            "tensor(0.4070, device='cuda:0')\n"
          ]
        },
        {
          "name": "stderr",
          "output_type": "stream",
          "text": [
            " 34%|███▍      | 17/50 [00:00<00:00, 38.51it/s]"
          ]
        },
        {
          "name": "stdout",
          "output_type": "stream",
          "text": [
            "tensor(0.4623, device='cuda:0')\n",
            "tensor(0.7336, device='cuda:0')\n",
            "tensor(0.7551, device='cuda:0')\n"
          ]
        },
        {
          "name": "stderr",
          "output_type": "stream",
          "text": [
            " 44%|████▍     | 22/50 [00:00<00:00, 39.23it/s]"
          ]
        },
        {
          "name": "stdout",
          "output_type": "stream",
          "text": [
            "tensor(0.6202, device='cuda:0')\n",
            "tensor(0.5833, device='cuda:0')\n",
            "tensor(0.8731, device='cuda:0')\n",
            "tensor(0.9137, device='cuda:0')\n",
            "tensor(0.6840, device='cuda:0')\n",
            "tensor(0.5728, device='cuda:0')\n"
          ]
        },
        {
          "name": "stderr",
          "output_type": "stream",
          "text": [
            " 54%|█████▍    | 27/50 [00:00<00:00, 39.79it/s]"
          ]
        },
        {
          "name": "stdout",
          "output_type": "stream",
          "text": [
            "tensor(0.6622, device='cuda:0')\n",
            "tensor(0.8812, device='cuda:0')\n",
            "tensor(0.8352, device='cuda:0')\n"
          ]
        },
        {
          "name": "stderr",
          "output_type": "stream",
          "text": [
            " 64%|██████▍   | 32/50 [00:00<00:00, 40.21it/s]"
          ]
        },
        {
          "name": "stdout",
          "output_type": "stream",
          "text": [
            "tensor(0.8786, device='cuda:0')\n",
            "tensor(0.8707, device='cuda:0')\n",
            "tensor(0.6713, device='cuda:0')\n",
            "tensor(0.7724, device='cuda:0')\n",
            "tensor(0.8490, device='cuda:0')\n",
            "tensor(0.7891, device='cuda:0')\n",
            "tensor(0.8055, device='cuda:0')\n",
            "tensor(0.7588, device='cuda:0')\n",
            "tensor(0.7918, device='cuda:0')\n"
          ]
        },
        {
          "name": "stderr",
          "output_type": "stream",
          "text": [
            " 74%|███████▍  | 37/50 [00:00<00:00, 36.30it/s]"
          ]
        },
        {
          "name": "stdout",
          "output_type": "stream",
          "text": [
            "tensor(0.9018, device='cuda:0')\n",
            "tensor(0.4605, device='cuda:0')\n",
            "tensor(0.5767, device='cuda:0')\n",
            "tensor(0.5006, device='cuda:0')\n"
          ]
        },
        {
          "name": "stderr",
          "output_type": "stream",
          "text": [
            " 84%|████████▍ | 42/50 [00:01<00:00, 37.48it/s]"
          ]
        },
        {
          "name": "stdout",
          "output_type": "stream",
          "text": [
            "tensor(0.8163, device='cuda:0')\n",
            "tensor(0.8155, device='cuda:0')\n",
            "tensor(0.8483, device='cuda:0')\n",
            "tensor(0.9113, device='cuda:0')\n",
            "tensor(0.8576, device='cuda:0')\n"
          ]
        },
        {
          "name": "stderr",
          "output_type": "stream",
          "text": [
            " 94%|█████████▍| 47/50 [00:01<00:00, 38.33it/s]"
          ]
        },
        {
          "name": "stdout",
          "output_type": "stream",
          "text": [
            "tensor(0.9186, device='cuda:0')\n",
            "tensor(0.7729, device='cuda:0')\n",
            "tensor(0.9302, device='cuda:0')\n",
            "tensor(0.9337, device='cuda:0')\n"
          ]
        },
        {
          "name": "stderr",
          "output_type": "stream",
          "text": [
            "100%|██████████| 50/50 [00:01<00:00, 37.94it/s]\n"
          ]
        },
        {
          "name": "stdout",
          "output_type": "stream",
          "text": [
            "tensor(0.9168, device='cuda:0')\n",
            "Mean IoU: 0.7301\n",
            "Valid loss improved from 0.2637 to 0.1824. Saving checkpoint: ./best.pth\n",
            "\tTrain Loss: 0.242\n",
            "\t Val. Loss: 0.182\n",
            "\n"
          ]
        },
        {
          "data": {
            "image/png": "[encoded data removed]",
            "text/plain": [
              "<Figure size 640x480 with 1 Axes>"
            ]
          },
          "metadata": {},
          "output_type": "display_data"
        },
        {
          "name": "stdout",
          "output_type": "stream",
          "text": [
            "Epoch: 3\n",
            "Train...\n"
          ]
        },
        {
          "name": "stderr",
          "output_type": "stream",
          "text": [
            "  1%|          | 2/250 [00:00<00:17, 13.81it/s]"
          ]
        }
      ],
      "source": [
        "\n",
        "import os\n",
        "import time\n",
        "import numpy as np\n",
        "from glob import glob\n",
        "from PIL import Image\n",
        "\n",
        "import torch\n",
        "from torch.utils.data import DataLoader\n",
        "import torch.nn as nn\n",
        "import tqdm\n",
        "\n",
        "def train(model, loader, optimizer, loss_fn, device):\n",
        "    print(\"Train...\")\n",
        "    epoch_loss = 0.0\n",
        "\n",
        "    \n",
        "    model.train()\n",
        "    for x, y in tqdm(loader):\n",
        "        x = x.to(device, dtype=torch.float32)\n",
        "        y = y.to(device, dtype=torch.float32)\n",
        "\n",
        "        optimizer.zero_grad()\n",
        "        y_pred = model(x)\n",
        "        loss = loss_fn(y_pred, y)\n",
        "        loss.backward()\n",
        "        optimizer.step()\n",
        "        epoch_loss += loss.item()\n",
        "\n",
        "    epoch_loss = epoch_loss/len(loader)\n",
        "    return epoch_loss\n",
        "\n",
        "def evaluate(model, loader, loss_fn, device, threshold = 0.6):\n",
        "    print(\"Valid...\")\n",
        "    epoch_loss = 0.0\n",
        "\n",
        "    iou_arr = []\n",
        "    model.eval()\n",
        "    with torch.no_grad():\n",
        "        for x, y in tqdm(loader):\n",
        "            x = x.to(device, dtype=torch.float32)\n",
        "            y = y.to(device, dtype=torch.float32)\n",
        "            \n",
        "            y_pred = model(x)\n",
        "            loss = loss_fn(y_pred, y)\n",
        "            epoch_loss += loss.item()\n",
        "\n",
        "            iou = iou_pytorch(y_pred, y)\n",
        "\n",
        "            iou_arr.append(iou.cpu().numpy())\n",
        "        mean_iou = np.mean(iou_arr)\n",
        "        print('Mean IoU: {:.4f}'.format(mean_iou))\n",
        "        epoch_loss = epoch_loss/len(loader)\n",
        "        \n",
        "    return epoch_loss\n",
        "\n",
        "\n",
        "if __name__ == \"__main__\":\n",
        "    from tqdm import tqdm\n",
        "    import matplotlib.pyplot as plt\n",
        "    '''\n",
        "    Code Unet for ----------  2 CLASSES ----------\n",
        "    '''\n",
        "\n",
        "    seeding(1234)\n",
        "    \"\"\" Load dataset \"\"\"\n",
        "    # train_x = sorted(glob(\"đường dẫn tới thư mục ảnh tập train/*\")) # Lưu ý: Có dấu * phía cuối\n",
        "    # train_y = sorted(glob(\"đường dẫn tới thư mục label tập train/*\"))\n",
        "    # valid_x = sorted(glob(\"đường dẫn tới thư mục ảnh train của tập test/*\"))\n",
        "    # valid_y = sorted(glob(\"đường dẫn tới thư mục label của tập test/*\"))\n",
        "    train_x = sorted(glob(\"dataset_full/dataset_full/train/*\"))[:1000] # Lưu ý: Có dấu * phía cuối\n",
        "    train_y = sorted(glob(\"dataset_full/dataset_full/trainanot_full/*\"))[:1000]\n",
        "    valid_x = sorted(glob(\"dataset_full/dataset_full/val/*\"))[:200]\n",
        "    valid_y = sorted(glob(\"dataset_full/dataset_full/valanot_full/*\"))[:200]\n",
        "    \n",
        "    data_str = f\"Dataset Size:\\nTrain: {len(train_x)} - Valid: {len(valid_x)}\\n\"\n",
        "    print(data_str)\n",
        "\n",
        "    \"\"\" Hyperparameters \"\"\"\n",
        "    H = 80\n",
        "    W = 160\n",
        "    size = (W, H)\n",
        "    batch_size = 4\n",
        "    num_epochs = 30\n",
        "    lr = 1e-4\n",
        "    checkpoint_path = \"./best.pth\"\n",
        "\n",
        "    \"\"\" Dataset and loader \"\"\"\n",
        "    train_dataset = DriveDataset(train_x, train_y, W, H)\n",
        "    valid_dataset = DriveDataset(valid_x, valid_y, W, H)\n",
        "\n",
        "\n",
        "    train_loader = DataLoader(\n",
        "        dataset=train_dataset,\n",
        "        batch_size=batch_size,\n",
        "        shuffle=True,\n",
        "        num_workers=0\n",
        "    )\n",
        "\n",
        "    valid_loader = DataLoader(\n",
        "        dataset=valid_dataset,\n",
        "        batch_size=batch_size,\n",
        "        shuffle=False,\n",
        "        num_workers=0\n",
        "    )\n",
        "\n",
        "    device = torch.device('cuda') \n",
        "    model = build_unet()\n",
        "    model = model.to(device)\n",
        "\n",
        "    torch.backends.cudnn.benchmark = True # new\n",
        "    optimizer = torch.optim.Adam(model.parameters(), lr=lr)\n",
        "    scheduler = torch.optim.lr_scheduler.ReduceLROnPlateau(optimizer, 'min', patience=5, verbose=True)\n",
        "    loss_fn = DiceBCELoss()\n",
        "\n",
        "    \"\"\" Training the model \"\"\"\n",
        "    best_valid_loss = float(\"inf\")\n",
        "\n",
        "    loss_train_plt = []\n",
        "    loss_val_plt = []\n",
        "\n",
        "    for epoch in range(num_epochs):\n",
        "        print(\"Epoch:\", epoch+1)\n",
        "        train_loss = train(model, train_loader, optimizer, loss_fn, device)    \n",
        "        valid_loss = evaluate(model, valid_loader, loss_fn, device)\n",
        "        \n",
        "        \"\"\" Saving the model \"\"\"\n",
        "        if valid_loss < best_valid_loss:\n",
        "            print(f\"Valid loss improved from {best_valid_loss:2.4f} to {valid_loss:2.4f}. Saving checkpoint: {checkpoint_path}\")\n",
        "\n",
        "            best_valid_loss = valid_loss\n",
        "            name = os.path.join(os.getcwd(), \"output_\" + str(epoch) + \".pth\")\n",
        "            torch.save(model.state_dict(), name)\n",
        "\n",
        "        print(f'\\tTrain Loss: {train_loss:.3f}\\n\\t Val. Loss: {valid_loss:.3f}\\n')\n",
        "        \n",
        "        loss_train_plt.append(train_loss)\n",
        "        loss_val_plt.append(valid_loss)\n",
        "        plt.plot(loss_train_plt)\n",
        "        plt.plot(loss_val_plt)\n",
        "        plt.show(f\"loss_epoch_{epoch}.png\")  "
      ]
    },
    {
      "cell_type": "markdown",
      "metadata": {},
      "source": [
        "Test mô hình"
      ]
    },
    {
      "cell_type": "code",
      "execution_count": 118,
      "metadata": {},
      "outputs": [
        {
          "data": {
            "image/png": "[encoded data removed]",
            "text/plain": [
              "<Figure size 640x480 with 1 Axes>"
            ]
          },
          "metadata": {},
          "output_type": "display_data"
        },
        {
          "data": {
            "image/png": "[encoded data removed]",
            "text/plain": [
              "<Figure size 640x480 with 1 Axes>"
            ]
          },
          "metadata": {},
          "output_type": "display_data"
        }
      ],
      "source": [
        "import cv2\n",
        "import numpy as np\n",
        "import torch\n",
        "import time\n",
        "\n",
        "checkpoint_path = \"duong dan toi file .pth\"\n",
        "model = build_unet().cuda()\n",
        "model.load_state_dict(torch.load(checkpoint_path, map_location='cuda'))\n",
        "model.eval()\n",
        "\n",
        "# 159, 396\n",
        "img = cv2.imread(\"noise_lane.png\")\n",
        "img = cv2.cvtColor(img, cv2.COLOR_BGR2RGB)\n",
        "img = cv2.resize(img, (160, 80))\n",
        "\n",
        "x = torch.from_numpy(img).cuda()\n",
        "x = x.transpose(1, 2).transpose(0, 1)\n",
        "x = x / 255.0\n",
        "x = x.unsqueeze(0).float()\n",
        "with torch.no_grad():\n",
        "    pred = model(x)\n",
        "    pred = torch.sigmoid(pred)\n",
        "    pred = pred[0].squeeze()\n",
        "    pred = (pred > 0.5).cpu().numpy()\n",
        "\n",
        "    pred = np.array(pred, dtype=np.uint8)\n",
        "    pred = pred * 255\n",
        "\n",
        "\n",
        "# cv2.imwrite(\"pred.png\", cv2.resize(pred, (160, 80)))\n",
        "plt.imshow(img)\n",
        "plt.show()\n",
        "plt.imshow(pred)\n",
        "plt.show()\n"
      ]
    }
  ],
  "metadata": {
    "colab": {
      "collapsed_sections": [],
      "name": "train_UNET.ipynb",
      "provenance": []
    },
    "kernelspec": {
      "display_name": "Python 3.7.13 64-bit",
      "language": "python",
      "name": "python3"
    },
    "language_info": {
      "codemirror_mode": {
        "name": "ipython",
        "version": 3
      },
      "file_extension": ".py",
      "mimetype": "text/x-python",
      "name": "python",
      "nbconvert_exporter": "python",
      "pygments_lexer": "ipython3",
      "version": "3.7.13"
    },
    "vscode": {
      "interpreter": {
        "hash": "73c523093cbae0c105fb38fa2a1db48a36f5410ec75d18bf241c74e50d5ffc25"
      }
    }
  },
  "nbformat": 4,
  "nbformat_minor": 0
}
